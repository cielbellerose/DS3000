{
 "cells": [
  {
   "cell_type": "markdown",
   "id": "1f6e7507-6b5b-4abe-ba70-57d99de74595",
   "metadata": {},
   "source": [
    "# Phase II: Data Curation, Exploratory Analysis and Plotting (5\\%)"
   ]
  },
  {
   "cell_type": "markdown",
   "id": "303de786-b2a8-4342-8f06-1db3cbfdcc31",
   "metadata": {},
   "source": [
    "Each **project group** will submit a single **jupyter notebook** which contains:\n",
    "\n",
    "1. (1\\%) Expresses the central motivation of the project and explains the (at least) two key questions to be explored. Gives a summary of the data processing pipeline so a technical expert can easily follow along.\n",
    "2. (2\\%) Obtains, cleans, and merges all data sources involved in the project.\n",
    "3. (2\\%) Builds at least two visualizations (graphs/plots) from the data which help to understand or answer the questions of interest. These visualizations will be graded based on how much information they can effectively communicate to readers. Please make sure your visualization are sufficiently distinct from each other."
   ]
  },
  {
   "cell_type": "code",
   "execution_count": null,
   "id": "b543ca5e-22ad-4f89-8d50-e98cec4977f1",
   "metadata": {},
   "outputs": [],
   "source": []
  }
 ],
 "metadata": {
  "kernelspec": {
   "display_name": "Python 3 (ipykernel)",
   "language": "python",
   "name": "python3"
  },
  "language_info": {
   "codemirror_mode": {
    "name": "ipython",
    "version": 3
   },
   "file_extension": ".py",
   "mimetype": "text/x-python",
   "name": "python",
   "nbconvert_exporter": "python",
   "pygments_lexer": "ipython3",
   "version": "3.11.2"
  }
 },
 "nbformat": 4,
 "nbformat_minor": 5
}
