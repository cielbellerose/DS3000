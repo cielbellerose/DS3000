{
 "cells": [
  {
   "cell_type": "markdown",
   "id": "1f6e7507-6b5b-4abe-ba70-57d99de74595",
   "metadata": {},
   "source": [
    "# Gathering SofaScore Team Statistics"
   ]
  },
  {
   "cell_type": "markdown",
   "id": "303de786-b2a8-4342-8f06-1db3cbfdcc31",
   "metadata": {},
   "source": [
    "## Data Collection\n",
    "\n",
    "Scraping team statistics from SofaScore including:\n",
    "- Team ratings\n",
    "- Goals scored\n",
    "- Goals conceded\n",
    "- Assists"
   ]
  },
  {
   "cell_type": "markdown",
   "id": "1587fd5e-6c12-40e3-a211-44a50bedc55f",
   "metadata": {},
   "source": [
    "### Sources\n",
    "- https://www.sofascore.com/\n",
    "- https://www.selenium.dev/documentation/webdriver/\n",
    "- https://selenium-python.readthedocs.io/locating-elements.html\n",
    "\n",
    "*Note: SofaScore pages are JavaScript-heavy so Selenium is required for scraping*"
   ]
  },
  {
   "cell_type": "code",
   "execution_count": 13,
   "id": "32699a09-4932-4a00-8059-e630b0ac1528",
   "metadata": {},
   "outputs": [],
   "source": [
    "# Selenium: Python library used for automating web browser for web scraping\n",
    "from selenium import webdriver\n",
    "from selenium.webdriver.common.by import By\n",
    "from selenium.webdriver.chrome.options import Options\n",
    "import pandas as pd\n",
    "import time\n",
    "import re"
   ]
  },
  {
   "cell_type": "code",
   "execution_count": 14,
   "id": "c705fa93-f67d-448e-a4bc-cad87fb7be99",
   "metadata": {},
   "outputs": [],
   "source": [
    "def scrape_team_statistics(driver, team_id, team_name, timeout=25):\n",
    "    \"\"\"\n",
    "    Scrapes team statistics with strict timeout.\n",
    "    If it takes longer than timeout seconds, returns partial/empty data.\n",
    "    \n",
    "    Args:\n",
    "        driver: Selenium WebDriver instance\n",
    "        team_id: SofaScore team ID\n",
    "        team_name: Team name\n",
    "        timeout: Maximum seconds to spend on this team\n",
    "    \n",
    "    Returns:\n",
    "        dict: Team statistics\n",
    "    \"\"\"\n",
    "    \n",
    "    results = {\n",
    "        'team_name': team_name,\n",
    "        'team_rating': None,\n",
    "        'goals_scored': None,\n",
    "        'goals_conceded': None,\n",
    "        'assists': None\n",
    "    }\n",
    "    \n",
    "    start_time = time.time()\n",
    "    \n",
    "    try:\n",
    "        # Set page load timeout\n",
    "        driver.set_page_load_timeout(10)\n",
    "        \n",
    "        # Load statistics tab\n",
    "        team_url = f\"https://www.sofascore.com/team/football/{team_name.lower().replace(' ', '-')}/{team_id}#tab:statistics\"\n",
    "        print(f\"Loading {team_name}...\", end=' ', flush=True)\n",
    "        \n",
    "        try:\n",
    "            driver.get(team_url)\n",
    "        except Exception as e:\n",
    "            print(f\"✗ Page timeout\")\n",
    "            return results\n",
    "        \n",
    "        # Check if we're over time\n",
    "        if time.time() - start_time > timeout:\n",
    "            print(f\"✗ Overall timeout\")\n",
    "            return results\n",
    "        \n",
    "        time.sleep(3)\n",
    "        \n",
    "        # Quick scroll\n",
    "        for scroll_pos in [400, 800]:\n",
    "            if time.time() - start_time > timeout:\n",
    "                break\n",
    "            driver.execute_script(f\"window.scrollTo(0, {scroll_pos});\")\n",
    "            time.sleep(0.3)\n",
    "        \n",
    "        # Get page text\n",
    "        try:\n",
    "            body_text = driver.find_element(By.TAG_NAME, 'body').text\n",
    "            lines = body_text.split('\\n')\n",
    "        except:\n",
    "            print(f\"✗ Could not get text\")\n",
    "            return results\n",
    "        \n",
    "        # Extract rating quickly\n",
    "        for i, line in enumerate(lines[:150]):\n",
    "            if time.time() - start_time > timeout:\n",
    "                break\n",
    "            \n",
    "            if 'sofascore rating' in line.lower():\n",
    "                for j in range(max(0, i-3), min(len(lines), i+6)):\n",
    "                    potential = lines[j].strip()\n",
    "                    if re.match(r'^\\d\\.\\d{1,2}$', potential):\n",
    "                        val = float(potential)\n",
    "                        if 0 <= val <= 10:\n",
    "                            results['team_rating'] = potential\n",
    "                            break\n",
    "                if results['team_rating']:\n",
    "                    break\n",
    "        \n",
    "        # If rating not found, try JavaScript (with timeout)\n",
    "        if not results['team_rating'] and time.time() - start_time < timeout:\n",
    "            rating_js = r\"\"\"\n",
    "            function findRating() {\n",
    "                var walker = document.createTreeWalker(document.body, NodeFilter.SHOW_TEXT, null, false);\n",
    "                var ratings = [];\n",
    "                var node;\n",
    "                var count = 0;\n",
    "                \n",
    "                while((node = walker.nextNode()) && count < 5000) {\n",
    "                    count++;\n",
    "                    var text = node.nodeValue.trim();\n",
    "                    if (/^\\d\\.\\d{1,2}$/.test(text)) {\n",
    "                        var val = parseFloat(text);\n",
    "                        if (val >= 0 && val <= 10) {\n",
    "                            ratings.push(text);\n",
    "                            if (ratings.length >= 3) break;\n",
    "                        }\n",
    "                    }\n",
    "                }\n",
    "                return ratings;\n",
    "            }\n",
    "            return findRating();\n",
    "            \"\"\"\n",
    "            \n",
    "            try:\n",
    "                driver.set_script_timeout(5)\n",
    "                ratings = driver.execute_script(rating_js)\n",
    "                if ratings and len(ratings) > 0:\n",
    "                    results['team_rating'] = ratings[0]\n",
    "            except:\n",
    "                pass\n",
    "        \n",
    "        # Extract other statistics - EXACT matches only!\n",
    "        max_lines = min(len(lines), 300)\n",
    "        \n",
    "        for i in range(max_lines):\n",
    "            if time.time() - start_time > timeout:\n",
    "                break\n",
    "            \n",
    "            line = lines[i]\n",
    "            line_lower = line.lower().strip()\n",
    "            \n",
    "            # Goals scored - EXACT match \"goals scored\"\n",
    "            if line_lower == 'goals scored':\n",
    "                for j in range(i+1, min(max_lines, i+4)):\n",
    "                    potential = lines[j].strip()\n",
    "                    if potential.isdigit():\n",
    "                        results['goals_scored'] = potential\n",
    "                        break\n",
    "            \n",
    "            # Goals conceded - EXACT match \"goals conceded\"\n",
    "            if line_lower == 'goals conceded':\n",
    "                for j in range(i+1, min(max_lines, i+4)):\n",
    "                    potential = lines[j].strip()\n",
    "                    if potential.isdigit():\n",
    "                        results['goals_conceded'] = potential\n",
    "                        break\n",
    "            \n",
    "            # Assists - EXACT match \"assists\"\n",
    "            if line_lower == 'assists':\n",
    "                for j in range(i+1, min(max_lines, i+4)):\n",
    "                    potential = lines[j].strip()\n",
    "                    if potential.isdigit():\n",
    "                        results['assists'] = potential\n",
    "                        break\n",
    "            \n",
    "            # Early exit if everything found\n",
    "            if all([results['team_rating'], results['goals_scored'], \n",
    "                   results['goals_conceded'], results['assists']]):\n",
    "                break\n",
    "        \n",
    "        elapsed = time.time() - start_time\n",
    "        print(f\"✓ Rating: {results['team_rating']}, Goals: {results['goals_scored']}, Conceded: {results['goals_conceded']}, Assists: {results['assists']} ({elapsed:.1f}s)\")\n",
    "        return results\n",
    "        \n",
    "    except Exception as e:\n",
    "        print(f\"✗ Error: {str(e)[:50]}\")\n",
    "        return results"
   ]
  },
  {
   "cell_type": "code",
   "execution_count": 15,
   "id": "eb862715",
   "metadata": {},
   "outputs": [],
   "source": [
    "def get_teams_statistics(teams):\n",
    "    \"\"\"\n",
    "    Scrapes statistics for multiple teams from SofaScore.\n",
    "    \n",
    "    Args:\n",
    "        teams: Dictionary of team names to team IDs\n",
    "    \n",
    "    Returns:\n",
    "        all_teams_data: List of dictionaries containing team statistics\n",
    "    \"\"\"\n",
    "    \n",
    "    # Setup Chrome options\n",
    "    chrome_options = Options()\n",
    "    chrome_options.add_argument('--headless')\n",
    "    chrome_options.add_argument('--no-sandbox')\n",
    "    chrome_options.add_argument('--disable-dev-shm-usage')\n",
    "    chrome_options.add_argument('--disable-images')\n",
    "    chrome_options.add_argument('user-agent=Mozilla/5.0 (Macintosh; Intel Mac OS X 10_15_7) AppleWebKit/537.36')\n",
    "    \n",
    "    driver = webdriver.Chrome(options=chrome_options)\n",
    "    all_teams_data = []\n",
    "    \n",
    "    try:\n",
    "        # Scrape each team\n",
    "        for i, (team_name, team_id) in enumerate(teams.items(), 1):\n",
    "            print(f\"[{i}/{len(teams)}] \", end='')\n",
    "            \n",
    "            try:\n",
    "                team_stats = scrape_team_statistics(driver, team_id, team_name)\n",
    "                \n",
    "                if team_stats:\n",
    "                    all_teams_data.append({\n",
    "                        'team_name': team_name,\n",
    "                        'team_id': team_id,\n",
    "                        'rating': team_stats['team_rating'],\n",
    "                        'goals_scored': team_stats['goals_scored'],\n",
    "                        'goals_conceded': team_stats['goals_conceded'],\n",
    "                        'assists': team_stats['assists']\n",
    "                    })\n",
    "            except Exception as e:\n",
    "                print(f\"Failed: {str(e)[:50]}\")\n",
    "                all_teams_data.append({\n",
    "                    'team_name': team_name,\n",
    "                    'team_id': team_id,\n",
    "                    'rating': None,\n",
    "                    'goals_scored': None,\n",
    "                    'goals_conceded': None,\n",
    "                    'assists': None\n",
    "                })\n",
    "            \n",
    "            time.sleep(1)\n",
    "        \n",
    "    finally:\n",
    "        driver.quit()\n",
    "    \n",
    "    return all_teams_data"
   ]
  },
  {
   "cell_type": "code",
   "execution_count": 16,
   "id": "2190cb32",
   "metadata": {},
   "outputs": [],
   "source": [
    "def create_teams_df(all_teams_data):\n",
    "    \"\"\"\n",
    "    Converts team statistics dictionaries into DataFrame.\n",
    "    \n",
    "    Args:\n",
    "        all_teams_data: List of team statistics dictionaries\n",
    "    \n",
    "    Returns:\n",
    "        teams_df: DataFrame with a row for each team\n",
    "    \"\"\"\n",
    "    teams_series = []\n",
    "    for team in all_teams_data:\n",
    "        teams_series.append(pd.Series(team))\n",
    "    teams_df = pd.DataFrame(teams_series)\n",
    "    return teams_df"
   ]
  },
  {
   "cell_type": "code",
   "execution_count": 17,
   "id": "90c00dd1-b742-4e05-b661-e1e4af8ab733",
   "metadata": {},
   "outputs": [],
   "source": [
    "# Teams to scrape (team_name: team_id)\n",
    "teams = {\n",
    "    'Manchester United': 35,\n",
    "    'Arsenal': 42,\n",
    "    'Liverpool': 44,\n",
    "    'Manchester City': 17,\n",
    "    'Chelsea': 38\n",
    "}"
   ]
  },
  {
   "cell_type": "code",
   "execution_count": 18,
   "id": "ba36143b-ae02-4ac8-b040-8a69f9553f0b",
   "metadata": {},
   "outputs": [
    {
     "name": "stdout",
     "output_type": "stream",
     "text": [
      "[1/5] Loading Manchester United... ✓ Rating: 6.81, Goals: 15, Conceded: 14, Assists: 10 (6.4s)\n",
      "[2/5] Loading Arsenal... ✓ Rating: 7.00, Goals: 16, Conceded: 3, Assists: 10 (5.6s)\n",
      "[3/5] Loading Liverpool... ✓ Rating: 6.83, Goals: 16, Conceded: 14, Assists: 11 (5.0s)\n",
      "[4/5] Loading Manchester City... ✓ Rating: 6.98, Goals: 17, Conceded: 7, Assists: 13 (6.4s)\n",
      "[5/5] Loading Chelsea... ✓ Rating: 6.87, Goals: 17, Conceded: 11, Assists: 12 (5.5s)\n"
     ]
    }
   ],
   "source": [
    "all_teams_data = get_teams_statistics(teams)"
   ]
  },
  {
   "cell_type": "code",
   "execution_count": 19,
   "id": "ede33b1c-2582-4550-a5ba-76378b01bf61",
   "metadata": {},
   "outputs": [
    {
     "data": {
      "text/html": [
       "<div>\n",
       "<style scoped>\n",
       "    .dataframe tbody tr th:only-of-type {\n",
       "        vertical-align: middle;\n",
       "    }\n",
       "\n",
       "    .dataframe tbody tr th {\n",
       "        vertical-align: top;\n",
       "    }\n",
       "\n",
       "    .dataframe thead th {\n",
       "        text-align: right;\n",
       "    }\n",
       "</style>\n",
       "<table border=\"1\" class=\"dataframe\">\n",
       "  <thead>\n",
       "    <tr style=\"text-align: right;\">\n",
       "      <th></th>\n",
       "      <th>team_name</th>\n",
       "      <th>team_id</th>\n",
       "      <th>rating</th>\n",
       "      <th>goals_scored</th>\n",
       "      <th>goals_conceded</th>\n",
       "      <th>assists</th>\n",
       "    </tr>\n",
       "  </thead>\n",
       "  <tbody>\n",
       "    <tr>\n",
       "      <th>0</th>\n",
       "      <td>Manchester United</td>\n",
       "      <td>35</td>\n",
       "      <td>6.81</td>\n",
       "      <td>15</td>\n",
       "      <td>14</td>\n",
       "      <td>10</td>\n",
       "    </tr>\n",
       "    <tr>\n",
       "      <th>1</th>\n",
       "      <td>Arsenal</td>\n",
       "      <td>42</td>\n",
       "      <td>7.00</td>\n",
       "      <td>16</td>\n",
       "      <td>3</td>\n",
       "      <td>10</td>\n",
       "    </tr>\n",
       "    <tr>\n",
       "      <th>2</th>\n",
       "      <td>Liverpool</td>\n",
       "      <td>44</td>\n",
       "      <td>6.83</td>\n",
       "      <td>16</td>\n",
       "      <td>14</td>\n",
       "      <td>11</td>\n",
       "    </tr>\n",
       "    <tr>\n",
       "      <th>3</th>\n",
       "      <td>Manchester City</td>\n",
       "      <td>17</td>\n",
       "      <td>6.98</td>\n",
       "      <td>17</td>\n",
       "      <td>7</td>\n",
       "      <td>13</td>\n",
       "    </tr>\n",
       "    <tr>\n",
       "      <th>4</th>\n",
       "      <td>Chelsea</td>\n",
       "      <td>38</td>\n",
       "      <td>6.87</td>\n",
       "      <td>17</td>\n",
       "      <td>11</td>\n",
       "      <td>12</td>\n",
       "    </tr>\n",
       "  </tbody>\n",
       "</table>\n",
       "</div>"
      ],
      "text/plain": [
       "           team_name  team_id rating goals_scored goals_conceded assists\n",
       "0  Manchester United       35   6.81           15             14      10\n",
       "1            Arsenal       42   7.00           16              3      10\n",
       "2          Liverpool       44   6.83           16             14      11\n",
       "3    Manchester City       17   6.98           17              7      13\n",
       "4            Chelsea       38   6.87           17             11      12"
      ]
     },
     "execution_count": 19,
     "metadata": {},
     "output_type": "execute_result"
    }
   ],
   "source": [
    "teams_df = create_teams_df(all_teams_data)\n",
    "teams_df"
   ]
  },
  {
   "cell_type": "code",
   "execution_count": 47,
   "id": "fb908af0",
   "metadata": {},
   "outputs": [
    {
     "data": {
      "application/vnd.plotly.v1+json": {
       "config": {
        "plotlyServerURL": "https://plot.ly"
       },
       "data": [
        {
         "hovertemplate": "<b>%{hovertext}</b><br><br>team_name=Manchester United<br>rating=%{x}<br>goals_scored=%{y}<extra></extra>",
         "hovertext": [
          "Manchester United"
         ],
         "legendgroup": "Manchester United",
         "marker": {
          "color": "#636efa",
          "symbol": "circle"
         },
         "mode": "markers",
         "name": "Manchester United",
         "orientation": "v",
         "showlegend": true,
         "type": "scatter",
         "x": {
          "bdata": "PQrXo3A9G0A=",
          "dtype": "f8"
         },
         "xaxis": "x",
         "y": {
          "bdata": "Dw==",
          "dtype": "i1"
         },
         "yaxis": "y"
        },
        {
         "hovertemplate": "<b>%{hovertext}</b><br><br>team_name=Arsenal<br>rating=%{x}<br>goals_scored=%{y}<extra></extra>",
         "hovertext": [
          "Arsenal"
         ],
         "legendgroup": "Arsenal",
         "marker": {
          "color": "#EF553B",
          "symbol": "circle"
         },
         "mode": "markers",
         "name": "Arsenal",
         "orientation": "v",
         "showlegend": true,
         "type": "scatter",
         "x": {
          "bdata": "AAAAAAAAHEA=",
          "dtype": "f8"
         },
         "xaxis": "x",
         "y": {
          "bdata": "EA==",
          "dtype": "i1"
         },
         "yaxis": "y"
        },
        {
         "hovertemplate": "<b>%{hovertext}</b><br><br>team_name=Liverpool<br>rating=%{x}<br>goals_scored=%{y}<extra></extra>",
         "hovertext": [
          "Liverpool"
         ],
         "legendgroup": "Liverpool",
         "marker": {
          "color": "#00cc96",
          "symbol": "circle"
         },
         "mode": "markers",
         "name": "Liverpool",
         "orientation": "v",
         "showlegend": true,
         "type": "scatter",
         "x": {
          "bdata": "UrgehetRG0A=",
          "dtype": "f8"
         },
         "xaxis": "x",
         "y": {
          "bdata": "EA==",
          "dtype": "i1"
         },
         "yaxis": "y"
        },
        {
         "hovertemplate": "<b>%{hovertext}</b><br><br>team_name=Manchester City<br>rating=%{x}<br>goals_scored=%{y}<extra></extra>",
         "hovertext": [
          "Manchester City"
         ],
         "legendgroup": "Manchester City",
         "marker": {
          "color": "#ab63fa",
          "symbol": "circle"
         },
         "mode": "markers",
         "name": "Manchester City",
         "orientation": "v",
         "showlegend": true,
         "type": "scatter",
         "x": {
          "bdata": "7FG4HoXrG0A=",
          "dtype": "f8"
         },
         "xaxis": "x",
         "y": {
          "bdata": "EQ==",
          "dtype": "i1"
         },
         "yaxis": "y"
        },
        {
         "hovertemplate": "<b>%{hovertext}</b><br><br>team_name=Chelsea<br>rating=%{x}<br>goals_scored=%{y}<extra></extra>",
         "hovertext": [
          "Chelsea"
         ],
         "legendgroup": "Chelsea",
         "marker": {
          "color": "#FFA15A",
          "symbol": "circle"
         },
         "mode": "markers",
         "name": "Chelsea",
         "orientation": "v",
         "showlegend": true,
         "type": "scatter",
         "x": {
          "bdata": "exSuR+F6G0A=",
          "dtype": "f8"
         },
         "xaxis": "x",
         "y": {
          "bdata": "EQ==",
          "dtype": "i1"
         },
         "yaxis": "y"
        }
       ],
       "layout": {
        "legend": {
         "title": {
          "text": "team_name"
         },
         "tracegroupgap": 0
        },
        "template": {
         "data": {
          "bar": [
           {
            "error_x": {
             "color": "#2a3f5f"
            },
            "error_y": {
             "color": "#2a3f5f"
            },
            "marker": {
             "line": {
              "color": "#E5ECF6",
              "width": 0.5
             },
             "pattern": {
              "fillmode": "overlay",
              "size": 10,
              "solidity": 0.2
             }
            },
            "type": "bar"
           }
          ],
          "barpolar": [
           {
            "marker": {
             "line": {
              "color": "#E5ECF6",
              "width": 0.5
             },
             "pattern": {
              "fillmode": "overlay",
              "size": 10,
              "solidity": 0.2
             }
            },
            "type": "barpolar"
           }
          ],
          "carpet": [
           {
            "aaxis": {
             "endlinecolor": "#2a3f5f",
             "gridcolor": "white",
             "linecolor": "white",
             "minorgridcolor": "white",
             "startlinecolor": "#2a3f5f"
            },
            "baxis": {
             "endlinecolor": "#2a3f5f",
             "gridcolor": "white",
             "linecolor": "white",
             "minorgridcolor": "white",
             "startlinecolor": "#2a3f5f"
            },
            "type": "carpet"
           }
          ],
          "choropleth": [
           {
            "colorbar": {
             "outlinewidth": 0,
             "ticks": ""
            },
            "type": "choropleth"
           }
          ],
          "contour": [
           {
            "colorbar": {
             "outlinewidth": 0,
             "ticks": ""
            },
            "colorscale": [
             [
              0,
              "#0d0887"
             ],
             [
              0.1111111111111111,
              "#46039f"
             ],
             [
              0.2222222222222222,
              "#7201a8"
             ],
             [
              0.3333333333333333,
              "#9c179e"
             ],
             [
              0.4444444444444444,
              "#bd3786"
             ],
             [
              0.5555555555555556,
              "#d8576b"
             ],
             [
              0.6666666666666666,
              "#ed7953"
             ],
             [
              0.7777777777777778,
              "#fb9f3a"
             ],
             [
              0.8888888888888888,
              "#fdca26"
             ],
             [
              1,
              "#f0f921"
             ]
            ],
            "type": "contour"
           }
          ],
          "contourcarpet": [
           {
            "colorbar": {
             "outlinewidth": 0,
             "ticks": ""
            },
            "type": "contourcarpet"
           }
          ],
          "heatmap": [
           {
            "colorbar": {
             "outlinewidth": 0,
             "ticks": ""
            },
            "colorscale": [
             [
              0,
              "#0d0887"
             ],
             [
              0.1111111111111111,
              "#46039f"
             ],
             [
              0.2222222222222222,
              "#7201a8"
             ],
             [
              0.3333333333333333,
              "#9c179e"
             ],
             [
              0.4444444444444444,
              "#bd3786"
             ],
             [
              0.5555555555555556,
              "#d8576b"
             ],
             [
              0.6666666666666666,
              "#ed7953"
             ],
             [
              0.7777777777777778,
              "#fb9f3a"
             ],
             [
              0.8888888888888888,
              "#fdca26"
             ],
             [
              1,
              "#f0f921"
             ]
            ],
            "type": "heatmap"
           }
          ],
          "histogram": [
           {
            "marker": {
             "pattern": {
              "fillmode": "overlay",
              "size": 10,
              "solidity": 0.2
             }
            },
            "type": "histogram"
           }
          ],
          "histogram2d": [
           {
            "colorbar": {
             "outlinewidth": 0,
             "ticks": ""
            },
            "colorscale": [
             [
              0,
              "#0d0887"
             ],
             [
              0.1111111111111111,
              "#46039f"
             ],
             [
              0.2222222222222222,
              "#7201a8"
             ],
             [
              0.3333333333333333,
              "#9c179e"
             ],
             [
              0.4444444444444444,
              "#bd3786"
             ],
             [
              0.5555555555555556,
              "#d8576b"
             ],
             [
              0.6666666666666666,
              "#ed7953"
             ],
             [
              0.7777777777777778,
              "#fb9f3a"
             ],
             [
              0.8888888888888888,
              "#fdca26"
             ],
             [
              1,
              "#f0f921"
             ]
            ],
            "type": "histogram2d"
           }
          ],
          "histogram2dcontour": [
           {
            "colorbar": {
             "outlinewidth": 0,
             "ticks": ""
            },
            "colorscale": [
             [
              0,
              "#0d0887"
             ],
             [
              0.1111111111111111,
              "#46039f"
             ],
             [
              0.2222222222222222,
              "#7201a8"
             ],
             [
              0.3333333333333333,
              "#9c179e"
             ],
             [
              0.4444444444444444,
              "#bd3786"
             ],
             [
              0.5555555555555556,
              "#d8576b"
             ],
             [
              0.6666666666666666,
              "#ed7953"
             ],
             [
              0.7777777777777778,
              "#fb9f3a"
             ],
             [
              0.8888888888888888,
              "#fdca26"
             ],
             [
              1,
              "#f0f921"
             ]
            ],
            "type": "histogram2dcontour"
           }
          ],
          "mesh3d": [
           {
            "colorbar": {
             "outlinewidth": 0,
             "ticks": ""
            },
            "type": "mesh3d"
           }
          ],
          "parcoords": [
           {
            "line": {
             "colorbar": {
              "outlinewidth": 0,
              "ticks": ""
             }
            },
            "type": "parcoords"
           }
          ],
          "pie": [
           {
            "automargin": true,
            "type": "pie"
           }
          ],
          "scatter": [
           {
            "fillpattern": {
             "fillmode": "overlay",
             "size": 10,
             "solidity": 0.2
            },
            "type": "scatter"
           }
          ],
          "scatter3d": [
           {
            "line": {
             "colorbar": {
              "outlinewidth": 0,
              "ticks": ""
             }
            },
            "marker": {
             "colorbar": {
              "outlinewidth": 0,
              "ticks": ""
             }
            },
            "type": "scatter3d"
           }
          ],
          "scattercarpet": [
           {
            "marker": {
             "colorbar": {
              "outlinewidth": 0,
              "ticks": ""
             }
            },
            "type": "scattercarpet"
           }
          ],
          "scattergeo": [
           {
            "marker": {
             "colorbar": {
              "outlinewidth": 0,
              "ticks": ""
             }
            },
            "type": "scattergeo"
           }
          ],
          "scattergl": [
           {
            "marker": {
             "colorbar": {
              "outlinewidth": 0,
              "ticks": ""
             }
            },
            "type": "scattergl"
           }
          ],
          "scattermap": [
           {
            "marker": {
             "colorbar": {
              "outlinewidth": 0,
              "ticks": ""
             }
            },
            "type": "scattermap"
           }
          ],
          "scattermapbox": [
           {
            "marker": {
             "colorbar": {
              "outlinewidth": 0,
              "ticks": ""
             }
            },
            "type": "scattermapbox"
           }
          ],
          "scatterpolar": [
           {
            "marker": {
             "colorbar": {
              "outlinewidth": 0,
              "ticks": ""
             }
            },
            "type": "scatterpolar"
           }
          ],
          "scatterpolargl": [
           {
            "marker": {
             "colorbar": {
              "outlinewidth": 0,
              "ticks": ""
             }
            },
            "type": "scatterpolargl"
           }
          ],
          "scatterternary": [
           {
            "marker": {
             "colorbar": {
              "outlinewidth": 0,
              "ticks": ""
             }
            },
            "type": "scatterternary"
           }
          ],
          "surface": [
           {
            "colorbar": {
             "outlinewidth": 0,
             "ticks": ""
            },
            "colorscale": [
             [
              0,
              "#0d0887"
             ],
             [
              0.1111111111111111,
              "#46039f"
             ],
             [
              0.2222222222222222,
              "#7201a8"
             ],
             [
              0.3333333333333333,
              "#9c179e"
             ],
             [
              0.4444444444444444,
              "#bd3786"
             ],
             [
              0.5555555555555556,
              "#d8576b"
             ],
             [
              0.6666666666666666,
              "#ed7953"
             ],
             [
              0.7777777777777778,
              "#fb9f3a"
             ],
             [
              0.8888888888888888,
              "#fdca26"
             ],
             [
              1,
              "#f0f921"
             ]
            ],
            "type": "surface"
           }
          ],
          "table": [
           {
            "cells": {
             "fill": {
              "color": "#EBF0F8"
             },
             "line": {
              "color": "white"
             }
            },
            "header": {
             "fill": {
              "color": "#C8D4E3"
             },
             "line": {
              "color": "white"
             }
            },
            "type": "table"
           }
          ]
         },
         "layout": {
          "annotationdefaults": {
           "arrowcolor": "#2a3f5f",
           "arrowhead": 0,
           "arrowwidth": 1
          },
          "autotypenumbers": "strict",
          "coloraxis": {
           "colorbar": {
            "outlinewidth": 0,
            "ticks": ""
           }
          },
          "colorscale": {
           "diverging": [
            [
             0,
             "#8e0152"
            ],
            [
             0.1,
             "#c51b7d"
            ],
            [
             0.2,
             "#de77ae"
            ],
            [
             0.3,
             "#f1b6da"
            ],
            [
             0.4,
             "#fde0ef"
            ],
            [
             0.5,
             "#f7f7f7"
            ],
            [
             0.6,
             "#e6f5d0"
            ],
            [
             0.7,
             "#b8e186"
            ],
            [
             0.8,
             "#7fbc41"
            ],
            [
             0.9,
             "#4d9221"
            ],
            [
             1,
             "#276419"
            ]
           ],
           "sequential": [
            [
             0,
             "#0d0887"
            ],
            [
             0.1111111111111111,
             "#46039f"
            ],
            [
             0.2222222222222222,
             "#7201a8"
            ],
            [
             0.3333333333333333,
             "#9c179e"
            ],
            [
             0.4444444444444444,
             "#bd3786"
            ],
            [
             0.5555555555555556,
             "#d8576b"
            ],
            [
             0.6666666666666666,
             "#ed7953"
            ],
            [
             0.7777777777777778,
             "#fb9f3a"
            ],
            [
             0.8888888888888888,
             "#fdca26"
            ],
            [
             1,
             "#f0f921"
            ]
           ],
           "sequentialminus": [
            [
             0,
             "#0d0887"
            ],
            [
             0.1111111111111111,
             "#46039f"
            ],
            [
             0.2222222222222222,
             "#7201a8"
            ],
            [
             0.3333333333333333,
             "#9c179e"
            ],
            [
             0.4444444444444444,
             "#bd3786"
            ],
            [
             0.5555555555555556,
             "#d8576b"
            ],
            [
             0.6666666666666666,
             "#ed7953"
            ],
            [
             0.7777777777777778,
             "#fb9f3a"
            ],
            [
             0.8888888888888888,
             "#fdca26"
            ],
            [
             1,
             "#f0f921"
            ]
           ]
          },
          "colorway": [
           "#636efa",
           "#EF553B",
           "#00cc96",
           "#ab63fa",
           "#FFA15A",
           "#19d3f3",
           "#FF6692",
           "#B6E880",
           "#FF97FF",
           "#FECB52"
          ],
          "font": {
           "color": "#2a3f5f"
          },
          "geo": {
           "bgcolor": "white",
           "lakecolor": "white",
           "landcolor": "#E5ECF6",
           "showlakes": true,
           "showland": true,
           "subunitcolor": "white"
          },
          "hoverlabel": {
           "align": "left"
          },
          "hovermode": "closest",
          "mapbox": {
           "style": "light"
          },
          "paper_bgcolor": "white",
          "plot_bgcolor": "#E5ECF6",
          "polar": {
           "angularaxis": {
            "gridcolor": "white",
            "linecolor": "white",
            "ticks": ""
           },
           "bgcolor": "#E5ECF6",
           "radialaxis": {
            "gridcolor": "white",
            "linecolor": "white",
            "ticks": ""
           }
          },
          "scene": {
           "xaxis": {
            "backgroundcolor": "#E5ECF6",
            "gridcolor": "white",
            "gridwidth": 2,
            "linecolor": "white",
            "showbackground": true,
            "ticks": "",
            "zerolinecolor": "white"
           },
           "yaxis": {
            "backgroundcolor": "#E5ECF6",
            "gridcolor": "white",
            "gridwidth": 2,
            "linecolor": "white",
            "showbackground": true,
            "ticks": "",
            "zerolinecolor": "white"
           },
           "zaxis": {
            "backgroundcolor": "#E5ECF6",
            "gridcolor": "white",
            "gridwidth": 2,
            "linecolor": "white",
            "showbackground": true,
            "ticks": "",
            "zerolinecolor": "white"
           }
          },
          "shapedefaults": {
           "line": {
            "color": "#2a3f5f"
           }
          },
          "ternary": {
           "aaxis": {
            "gridcolor": "white",
            "linecolor": "white",
            "ticks": ""
           },
           "baxis": {
            "gridcolor": "white",
            "linecolor": "white",
            "ticks": ""
           },
           "bgcolor": "#E5ECF6",
           "caxis": {
            "gridcolor": "white",
            "linecolor": "white",
            "ticks": ""
           }
          },
          "title": {
           "x": 0.05
          },
          "xaxis": {
           "automargin": true,
           "gridcolor": "white",
           "linecolor": "white",
           "ticks": "",
           "title": {
            "standoff": 15
           },
           "zerolinecolor": "white",
           "zerolinewidth": 2
          },
          "yaxis": {
           "automargin": true,
           "gridcolor": "white",
           "linecolor": "white",
           "ticks": "",
           "title": {
            "standoff": 15
           },
           "zerolinecolor": "white",
           "zerolinewidth": 2
          }
         }
        },
        "title": {
         "font": {
          "size": 22
         },
         "text": "Team Rating vs Goals Scored"
        },
        "xaxis": {
         "anchor": "y",
         "domain": [
          0,
          1
         ],
         "range": [
          0,
          12
         ],
         "title": {
          "text": "Team Rating"
         }
        },
        "yaxis": {
         "anchor": "x",
         "domain": [
          0,
          1
         ],
         "range": [
          0,
          22
         ],
         "title": {
          "text": "Goals Scored"
         }
        }
       }
      }
     },
     "metadata": {},
     "output_type": "display_data"
    }
   ],
   "source": [
    "import plotly.express as px\n",
    "import pandas as pd\n",
    "\n",
    "# convert the goals scored and rating cols to have numerical values\n",
    "teams_df['goals_scored'] = pd.to_numeric(teams_df['goals_scored'], errors='coerce')\n",
    "teams_df['rating'] = pd.to_numeric(teams_df['rating'], errors='coerce')\n",
    "\n",
    "# creates the scatter plot comparing each team's rating to goals scored\n",
    "fig = px.scatter(\n",
    "    teams_df,\n",
    "    x='rating',\n",
    "    y='goals_scored',\n",
    "    color='team_name',\n",
    "    hover_name='team_name',\n",
    "    title='Team Rating vs Goals Scored',\n",
    ")\n",
    "\n",
    "#normalize it so axis' start at 0\n",
    "fig.update_layout(\n",
    "    xaxis=dict(title='Team Rating', range=[0, teams_df['rating'].max() + 5]),\n",
    "    yaxis=dict(title='Goals Scored', range=[0, teams_df['goals_scored'].max() + 5]),\n",
    "    title_font_size=22\n",
    ")\n",
    "\n",
    "fig.show()\n"
   ]
  }
 ],
 "metadata": {
  "kernelspec": {
   "display_name": "Python 3",
   "language": "python",
   "name": "python3"
  },
  "language_info": {
   "codemirror_mode": {
    "name": "ipython",
    "version": 3
   },
   "file_extension": ".py",
   "mimetype": "text/x-python",
   "name": "python",
   "nbconvert_exporter": "python",
   "pygments_lexer": "ipython3",
   "version": "3.13.3"
  }
 },
 "nbformat": 4,
 "nbformat_minor": 5
}
