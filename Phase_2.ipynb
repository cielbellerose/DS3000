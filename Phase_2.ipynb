{
 "cells": [
  {
   "cell_type": "markdown",
   "id": "630b79bb",
   "metadata": {},
   "source": [
    "# Phase II: Data Curation, Exploratory Analysis and Plotting (5\\%)"
   ]
  },
  {
   "cell_type": "markdown",
   "id": "9f6a44ba",
   "metadata": {},
   "source": [
    "Each **project group** will submit a single **jupyter notebook** which contains:\n",
    "\n",
    "1. (1\\%) Expresses the central motivation of the project and explains the (at least) two key questions to be explored. Gives a summary of the data processing pipeline so a technical expert can easily follow along.\n",
    "2. (2\\%) Obtains, cleans, and merges all data sources involved in the project.\n",
    "3. (2\\%) Builds at least two visualizations (graphs/plots) from the data which help to understand or answer the questions of interest. These visualizations will be graded based on how much information they can effectively communicate to readers. Please make sure your visualization are sufficiently distinct from each other."
   ]
  },
  {
   "cell_type": "markdown",
   "id": "9e59e0c1",
   "metadata": {},
   "source": [
    "#### Introduction\n",
    "\n",
    "In today's times, a player's popularity on social media is a defining factor to how long they would continue the contract with the team, since a popular team gets the most fans thus the most tickets sold, merchandise bought, and better revenue in general. Moreover, we also wanted to find out if their on-field performance like how many goals they score or the way they interact with their teammates also affects popularity on social media. This complete analysis could also help the clubs themselves understand which players they could trade off, or are valuable to their team. \n"
   ]
  },
  {
   "cell_type": "markdown",
   "id": "30b9787c",
   "metadata": {},
   "source": [
    "## Gathering Twitter Data\n",
    "### Sources\n",
    "- https://builtin.com/articles/selenium-web-scraping\n",
    "- https://www.selenium.dev/documentation/webdriver/elements/finders/\n",
    "- https://www.selenium.dev/documentation/webdriver/actions_api/wheel/\n",
    "- https://selenium-python.readthedocs.io/locating-elements.html\n",
    "\n",
    "*Note: Twitter pages first load JavaScript (that then fetches the data) so BeautifulSoup won't work here*"
   ]
  },
  {
   "cell_type": "code",
   "execution_count": null,
   "id": "5e2a92ad",
   "metadata": {},
   "outputs": [],
   "source": [
    "# Selenium: Python library used for automating web browser for web scraping\n",
    "from selenium import webdriver\n",
    "from selenium.webdriver.common.keys import Keys\n",
    "from selenium.webdriver.common.by import By\n",
    "import pandas as pd\n",
    "import time\n",
    "from datetime import datetime"
   ]
  },
  {
   "cell_type": "code",
   "execution_count": null,
   "id": "5618a021",
   "metadata": {},
   "outputs": [],
   "source": [
    "# scrapes given url and gathers profile and tweet data\n",
    "def extractTwitterData(url, scroll_amount, team):\n",
    "    \"\"\" Scrapes given Twitter/X profile page to gather profile and tweet data\n",
    "    Requires ChromeDriver installation [update executable path once installed]\n",
    "    \n",
    "    Args:\n",
    "        url(str): URL of Twitter/X profile (ex: 'https://x.com/ManCity')\n",
    "        scroll_amount(int): Number of times the page is scrolled to load tweets\n",
    "        team: team username for finding page elements (ex: 'ManCity')\n",
    "\n",
    "    Returns:\n",
    "        profile_data(dict): Dictionary of profile information\n",
    "        all_tweets_data(dict): List of dictionaries of individual tweet data\n",
    "    \"\"\"\n",
    "    cService = webdriver.ChromeService(executable_path='/Users/KinseyBellerose/Downloads/chromedriver-mac-arm64/chromedriver')\n",
    "    driver = webdriver.Chrome(service=cService)\n",
    "    driver.get(url)\n",
    "    time.sleep(5) # let the page load\n",
    "\n",
    "    profile_data = extractProfileData(driver, team)\n",
    "    all_tweets_data = []\n",
    "\n",
    "    # extract data from tweets as the page is scrolled\n",
    "    # increase scroll_amount to load more tweets\n",
    "    for i in range(scroll_amount):\n",
    "        tweets = driver.find_elements(By.CSS_SELECTOR, 'article[data-testid=\"tweet\"]')\n",
    "        for tweet in tweets:\n",
    "            tweet_data = extractTweetData(tweet)\n",
    "            all_tweets_data.append(tweet_data)\n",
    "        # scroll down on page\n",
    "        driver.execute_script('window.scrollTo(0,document.body.scrollHeight);')\n",
    "        time.sleep(5)\n",
    "    driver.quit() # closes browsers and stops processes\n",
    "    return profile_data, all_tweets_data\n",
    "\n",
    "\n",
    "def extractProfileData(driver, team):\n",
    "    \"\"\" Extract profile information from Twitter/X profile\n",
    "    Args: \n",
    "        driver: Selenium web driver open on profile page\n",
    "        team(str): Team name for finding page elements\n",
    "    Returns:\n",
    "        profile_data(dict): Dictionary containing profile data\n",
    "    \"\"\"\n",
    "    profile_data = {\n",
    "        'display_name': driver.find_element(By.CSS_SELECTOR, '[data-testid=\"UserName\"]').text,\n",
    "        'join_date': driver.find_element(By.CSS_SELECTOR, '[data-testid=\"UserJoinDate\"]').text,\n",
    "        'following_count': driver.find_element(By.CSS_SELECTOR, f'a[href=\"/{team}/following\"]').text,\n",
    "        'follower_count': driver.find_element(By.CSS_SELECTOR, f'[data-testid=\"primaryColumn\"] [href=\"/{team}/verified_followers\"]').text,\n",
    "        'post_count': driver.find_element(By.XPATH, '//div[@data-testid=\"primaryColumn\"]//div[contains(text(), \"posts\")]').text,\n",
    "        'scraped_at': datetime.now(),\n",
    "        'profile_url': driver.current_url,\n",
    "        'team': team\n",
    "    }\n",
    "    return profile_data\n",
    "\n",
    "def extractTweetData(tweet):\n",
    "    \"\"\" Extract individual tweet information from Twitter/X profile\n",
    "    Args:\n",
    "        tweet: Page content for single tweet\n",
    "    Returns:\n",
    "        tweet_data(dict): Dictionary containing tweet data\n",
    "    \"\"\"\n",
    "    tweet_stats = extract_tweet_stats(tweet)\n",
    "    author = tweet.find_element(By.CSS_SELECTOR, '[data-testid=\"User-Name\"]').text\n",
    "    # name, username, and other chars were combined in this element\n",
    "    author_parts = author.split('\\n')\n",
    "    try:\n",
    "        tweet_text = tweet.find_element(By.CSS_SELECTOR, '[data-testid=\"tweetText\"]').text,\n",
    "    except Exception as e:\n",
    "        tweet_text = 'Error retrieving tweet'\n",
    "\n",
    "    tweet_data = {\n",
    "                'text': tweet_text,\n",
    "                'author_name': author_parts[0] if len(author_parts) > 0 else \"\",\n",
    "                'author_username': author_parts[1] if len(author_parts) > 1 else \"\",\n",
    "                'timestamp': tweet.find_element(By.CSS_SELECTOR, 'time').get_attribute('datetime'),\n",
    "                'relative_time': tweet.find_element(By.CSS_SELECTOR, 'time').text,\n",
    "                'tweet_url': tweet.find_element(By.CSS_SELECTOR, 'a[href*=\"/status/\"]').get_attribute('href'),\n",
    "                'replies': tweet_stats['replies'],\n",
    "                'reposts': tweet_stats['reposts'],\n",
    "                'likes': tweet_stats['likes'],\n",
    "                'views': tweet_stats['views'],\n",
    "            }\n",
    "    return tweet_data\n",
    "\n",
    "def extract_tweet_stats(tweet):\n",
    "    \"\"\" Retrieves reply, repost, like, and view counts from specific tweet web element\n",
    "    Args:\n",
    "        tweet: Page content for a tweet\n",
    "    Returns:\n",
    "        Dictionary containing tweet statistics with replies, reposts, likes, and view counts uncleaned\n",
    "    \"\"\"\n",
    "    stat_section = tweet.find_element(By.CSS_SELECTOR, '[role=\"group\"]')\n",
    "    # stat_section returns as \"38 91 1.3K 33K\"\n",
    "    stat_text = stat_section.text.split('\\n') # turn into list\n",
    "    return {\n",
    "        'replies': stat_text[0] if len(stat_text) > 0 else \"0\",\n",
    "        'reposts': stat_text[1] if len(stat_text) > 1 else \"0\", \n",
    "        'likes': stat_text[2] if len(stat_text) > 2 else \"0\",\n",
    "        'views': stat_text[3] if len(stat_text) > 3 else \"0\"\n",
    "    }"
   ]
  },
  {
   "cell_type": "code",
   "execution_count": null,
   "id": "38cce7d3",
   "metadata": {},
   "outputs": [],
   "source": [
    "def create_profiles_df(all_profile_data):\n",
    "    \"\"\" Converts profile dictionaries into DataFrame\n",
    "    Args:\n",
    "        all_profile_data(dict): List of profile dictionaries for each team\n",
    "    Returns:\n",
    "        profiles_df(DataFrame): DataFrame with a row for each team profile\n",
    "    \"\"\"\n",
    "    profiles_series = []\n",
    "    for profile in all_profile_data:\n",
    "        profiles_series.append(pd.Series(profile))\n",
    "    profiles_df = pd.DataFrame(profiles_series)\n",
    "    return profiles_df"
   ]
  },
  {
   "cell_type": "code",
   "execution_count": null,
   "id": "64809125",
   "metadata": {},
   "outputs": [],
   "source": [
    "def create_tweet_df(tweets_data):\n",
    "    \"\"\" Converts a team's tweet dictionaries into a DataFrame\n",
    "    Args:\n",
    "        tweets_Data(dict): List of tweet dictionaries for a team\n",
    "    Returns:\n",
    "        tweets_df(DataFrame): DataFrame with a row for each individual tweet\n",
    "    \"\"\"\n",
    "    tweet_series = []\n",
    "    for tweet in tweets_data:\n",
    "        tweet_series.append(pd.Series(tweet))\n",
    "    tweets_df = pd.DataFrame(tweet_series)\n",
    "    return tweets_df"
   ]
  },
  {
   "cell_type": "code",
   "execution_count": null,
   "id": "887ef47f",
   "metadata": {},
   "outputs": [],
   "source": [
    "# extracts profile + tweet data from each team\n",
    "def get_teams_twitter_data(teams):\n",
    "    \"\"\" Scrapes Twitter/X for multiple teams and returns profile and tweet data\n",
    "    Args:\n",
    "        teams: Collection of team usernames (Ex: 'ManCity')\n",
    "    Returns:\n",
    "        profiles_data(dict): List of dictionaries for each profile\n",
    "        tweets_data(dict): Dictionary linking team usernames to all their tweet data\n",
    "    \"\"\"\n",
    "    profiles_data = []\n",
    "    tweets_data = {}\n",
    "    for team in teams:\n",
    "        url = f\"https://x.com/{team}\"\n",
    "        profile_data, team_tweets_data = extractTwitterData(url, 10, team)\n",
    "        profiles_data.append(profile_data)\n",
    "        tweets_data[team] = team_tweets_data\n",
    "\n",
    "    return profiles_data, tweets_data"
   ]
  },
  {
   "cell_type": "code",
   "execution_count": null,
   "id": "df093dd6",
   "metadata": {},
   "outputs": [],
   "source": [
    "# turns extracted data into one profile df and a tweet df for each team\n",
    "def get_team_dfs(profiles_data, tweets_data):  \n",
    "    \"\"\" Converts scraped data into a profile DataFrame and tweet DataFrame\n",
    "    Args:\n",
    "        profiles_data(dict): Dictionaries for each team profile\n",
    "        tweets_data(dict): Dictionary pairing team usernames to tweet dictionaries\n",
    "    returns:\n",
    "        combined_tweets_df(DataFrame): DataFrame containing all tweet data for all teams\n",
    "        profiles_df(DataFrame): DataFrame where each row represents data for one team\n",
    "    \"\"\"\n",
    "    profiles_df = create_profiles_df(profiles_data)\n",
    "    tweets_list = []\n",
    "    for team, tweets in tweets_data.items():\n",
    "        team_tweets_df = create_tweet_df(tweets)\n",
    "        # add team_name column\n",
    "        team_tweets_df['team_name'] = team\n",
    "        tweets_list.append(team_tweets_df)\n",
    "    combined_tweets_df = pd.concat(tweets_list, ignore_index=True)\n",
    "    return combined_tweets_df, profiles_df"
   ]
  },
  {
   "cell_type": "code",
   "execution_count": null,
   "id": "ebba4858",
   "metadata": {},
   "outputs": [],
   "source": [
    "# ~ 4 minutes\n",
    "team_usernames = {'ManCity','ManUtd', 'ChelseaFC', 'Arsenal', 'LFC'}\n",
    "profiles_data, tweets_data = get_teams_twitter_data(team_usernames)"
   ]
  },
  {
   "cell_type": "code",
   "execution_count": null,
   "id": "7407af9c",
   "metadata": {},
   "outputs": [
    {
     "data": {
      "text/html": [
       "<div>\n",
       "<style scoped>\n",
       "    .dataframe tbody tr th:only-of-type {\n",
       "        vertical-align: middle;\n",
       "    }\n",
       "\n",
       "    .dataframe tbody tr th {\n",
       "        vertical-align: top;\n",
       "    }\n",
       "\n",
       "    .dataframe thead th {\n",
       "        text-align: right;\n",
       "    }\n",
       "</style>\n",
       "<table border=\"1\" class=\"dataframe\">\n",
       "  <thead>\n",
       "    <tr style=\"text-align: right;\">\n",
       "      <th></th>\n",
       "      <th>text</th>\n",
       "      <th>author_name</th>\n",
       "      <th>author_username</th>\n",
       "      <th>timestamp</th>\n",
       "      <th>relative_time</th>\n",
       "      <th>tweet_url</th>\n",
       "      <th>replies</th>\n",
       "      <th>reposts</th>\n",
       "      <th>likes</th>\n",
       "      <th>views</th>\n",
       "      <th>team_name</th>\n",
       "    </tr>\n",
       "  </thead>\n",
       "  <tbody>\n",
       "    <tr>\n",
       "      <th>0</th>\n",
       "      <td>(Stunning from Divine Mukasa against Villarrea...</td>\n",
       "      <td>Manchester City</td>\n",
       "      <td>@ManCity</td>\n",
       "      <td>2025-10-22T18:00:19.000Z</td>\n",
       "      <td>2h</td>\n",
       "      <td>https://x.com/ManCity/status/1981058046244901138</td>\n",
       "      <td>34</td>\n",
       "      <td>89</td>\n",
       "      <td>904</td>\n",
       "      <td>40K</td>\n",
       "      <td>ManCity</td>\n",
       "    </tr>\n",
       "    <tr>\n",
       "      <th>1</th>\n",
       "      <td>(An unstoppable header! \\n@BernardoCSilva\\n ,)</td>\n",
       "      <td>Manchester City</td>\n",
       "      <td>@ManCity</td>\n",
       "      <td>2025-10-22T17:20:00.000Z</td>\n",
       "      <td>2h</td>\n",
       "      <td>https://x.com/ManCity/status/1981047900701389088</td>\n",
       "      <td>31</td>\n",
       "      <td>83</td>\n",
       "      <td>885</td>\n",
       "      <td>32K</td>\n",
       "      <td>ManCity</td>\n",
       "    </tr>\n",
       "    <tr>\n",
       "      <th>2</th>\n",
       "      <td>(Another game, another goal! \\n@ErlingHaaland\\...</td>\n",
       "      <td>Manchester City</td>\n",
       "      <td>@ManCity</td>\n",
       "      <td>2025-10-22T17:10:00.000Z</td>\n",
       "      <td>2h</td>\n",
       "      <td>https://x.com/ManCity/status/1981045384651714923</td>\n",
       "      <td>43</td>\n",
       "      <td>138</td>\n",
       "      <td>1.3K</td>\n",
       "      <td>35K</td>\n",
       "      <td>ManCity</td>\n",
       "    </tr>\n",
       "    <tr>\n",
       "      <th>3</th>\n",
       "      <td>(Loud and proud as always! ,)</td>\n",
       "      <td>Manchester City</td>\n",
       "      <td>@ManCity</td>\n",
       "      <td>2025-10-21T21:46:32.000Z</td>\n",
       "      <td>22h</td>\n",
       "      <td>https://x.com/ManCity/status/1980752587453350349</td>\n",
       "      <td>70</td>\n",
       "      <td>793</td>\n",
       "      <td>7.4K</td>\n",
       "      <td>280K</td>\n",
       "      <td>ManCity</td>\n",
       "    </tr>\n",
       "    <tr>\n",
       "      <th>4</th>\n",
       "      <td>(A good night's work ,)</td>\n",
       "      <td>Manchester City</td>\n",
       "      <td>@ManCity</td>\n",
       "      <td>2025-10-21T21:23:02.000Z</td>\n",
       "      <td>22h</td>\n",
       "      <td>https://x.com/ManCity/status/1980746673673388196</td>\n",
       "      <td>55</td>\n",
       "      <td>499</td>\n",
       "      <td>7.9K</td>\n",
       "      <td>92K</td>\n",
       "      <td>ManCity</td>\n",
       "    </tr>\n",
       "    <tr>\n",
       "      <th>...</th>\n",
       "      <td>...</td>\n",
       "      <td>...</td>\n",
       "      <td>...</td>\n",
       "      <td>...</td>\n",
       "      <td>...</td>\n",
       "      <td>...</td>\n",
       "      <td>...</td>\n",
       "      <td>...</td>\n",
       "      <td>...</td>\n",
       "      <td>...</td>\n",
       "      <td>...</td>\n",
       "    </tr>\n",
       "    <tr>\n",
       "      <th>198</th>\n",
       "      <td>(26' - Goal for Frankfurt. Rasmus Kristensen.\\...</td>\n",
       "      <td>Liverpool FC</td>\n",
       "      <td>@LFC</td>\n",
       "      <td>2025-10-22T19:25:59.000Z</td>\n",
       "      <td>46m</td>\n",
       "      <td>https://x.com/LFC/status/1981079605327826954</td>\n",
       "      <td>954</td>\n",
       "      <td>585</td>\n",
       "      <td>2.5K</td>\n",
       "      <td>307K</td>\n",
       "      <td>LFC</td>\n",
       "    </tr>\n",
       "    <tr>\n",
       "      <th>199</th>\n",
       "      <td>(19’ - We’re forced into an early change as Br...</td>\n",
       "      <td>Liverpool FC</td>\n",
       "      <td>@LFC</td>\n",
       "      <td>2025-10-22T19:19:09.000Z</td>\n",
       "      <td>53m</td>\n",
       "      <td>https://x.com/LFC/status/1981077887840104585</td>\n",
       "      <td>155</td>\n",
       "      <td>132</td>\n",
       "      <td>1.3K</td>\n",
       "      <td>166K</td>\n",
       "      <td>LFC</td>\n",
       "    </tr>\n",
       "    <tr>\n",
       "      <th>200</th>\n",
       "      <td>(Come on you Reds ,)</td>\n",
       "      <td>Liverpool FC</td>\n",
       "      <td>@LFC</td>\n",
       "      <td>2025-10-22T19:06:09.000Z</td>\n",
       "      <td>1h</td>\n",
       "      <td>https://x.com/LFC/status/1981074616237117515</td>\n",
       "      <td>79</td>\n",
       "      <td>343</td>\n",
       "      <td>3.4K</td>\n",
       "      <td>127K</td>\n",
       "      <td>LFC</td>\n",
       "    </tr>\n",
       "    <tr>\n",
       "      <th>201</th>\n",
       "      <td>(1’ - Up and running at Deutsche Bank Park \\n\\...</td>\n",
       "      <td>Liverpool FC</td>\n",
       "      <td>@LFC</td>\n",
       "      <td>2025-10-22T19:00:22.000Z</td>\n",
       "      <td>1h</td>\n",
       "      <td>https://x.com/LFC/status/1981073161195307216</td>\n",
       "      <td>51</td>\n",
       "      <td>141</td>\n",
       "      <td>1.1K</td>\n",
       "      <td>102K</td>\n",
       "      <td>LFC</td>\n",
       "    </tr>\n",
       "    <tr>\n",
       "      <th>202</th>\n",
       "      <td>(Ready to go ,)</td>\n",
       "      <td>Liverpool FC</td>\n",
       "      <td>@LFC</td>\n",
       "      <td>2025-10-22T18:56:00.000Z</td>\n",
       "      <td>1h</td>\n",
       "      <td>https://x.com/LFC/status/1981072059817218532</td>\n",
       "      <td>45</td>\n",
       "      <td>139</td>\n",
       "      <td>1.4K</td>\n",
       "      <td>74K</td>\n",
       "      <td>LFC</td>\n",
       "    </tr>\n",
       "  </tbody>\n",
       "</table>\n",
       "<p>203 rows × 11 columns</p>\n",
       "</div>"
      ],
      "text/plain": [
       "                                                  text      author_name  \\\n",
       "0    (Stunning from Divine Mukasa against Villarrea...  Manchester City   \n",
       "1       (An unstoppable header! \\n@BernardoCSilva\\n ,)  Manchester City   \n",
       "2    (Another game, another goal! \\n@ErlingHaaland\\...  Manchester City   \n",
       "3                        (Loud and proud as always! ,)  Manchester City   \n",
       "4                              (A good night's work ,)  Manchester City   \n",
       "..                                                 ...              ...   \n",
       "198  (26' - Goal for Frankfurt. Rasmus Kristensen.\\...     Liverpool FC   \n",
       "199  (19’ - We’re forced into an early change as Br...     Liverpool FC   \n",
       "200                               (Come on you Reds ,)     Liverpool FC   \n",
       "201  (1’ - Up and running at Deutsche Bank Park \\n\\...     Liverpool FC   \n",
       "202                                    (Ready to go ,)     Liverpool FC   \n",
       "\n",
       "    author_username                 timestamp relative_time  \\\n",
       "0          @ManCity  2025-10-22T18:00:19.000Z            2h   \n",
       "1          @ManCity  2025-10-22T17:20:00.000Z            2h   \n",
       "2          @ManCity  2025-10-22T17:10:00.000Z            2h   \n",
       "3          @ManCity  2025-10-21T21:46:32.000Z           22h   \n",
       "4          @ManCity  2025-10-21T21:23:02.000Z           22h   \n",
       "..              ...                       ...           ...   \n",
       "198            @LFC  2025-10-22T19:25:59.000Z           46m   \n",
       "199            @LFC  2025-10-22T19:19:09.000Z           53m   \n",
       "200            @LFC  2025-10-22T19:06:09.000Z            1h   \n",
       "201            @LFC  2025-10-22T19:00:22.000Z            1h   \n",
       "202            @LFC  2025-10-22T18:56:00.000Z            1h   \n",
       "\n",
       "                                            tweet_url replies reposts likes  \\\n",
       "0    https://x.com/ManCity/status/1981058046244901138      34      89   904   \n",
       "1    https://x.com/ManCity/status/1981047900701389088      31      83   885   \n",
       "2    https://x.com/ManCity/status/1981045384651714923      43     138  1.3K   \n",
       "3    https://x.com/ManCity/status/1980752587453350349      70     793  7.4K   \n",
       "4    https://x.com/ManCity/status/1980746673673388196      55     499  7.9K   \n",
       "..                                                ...     ...     ...   ...   \n",
       "198      https://x.com/LFC/status/1981079605327826954     954     585  2.5K   \n",
       "199      https://x.com/LFC/status/1981077887840104585     155     132  1.3K   \n",
       "200      https://x.com/LFC/status/1981074616237117515      79     343  3.4K   \n",
       "201      https://x.com/LFC/status/1981073161195307216      51     141  1.1K   \n",
       "202      https://x.com/LFC/status/1981072059817218532      45     139  1.4K   \n",
       "\n",
       "    views team_name  \n",
       "0     40K   ManCity  \n",
       "1     32K   ManCity  \n",
       "2     35K   ManCity  \n",
       "3    280K   ManCity  \n",
       "4     92K   ManCity  \n",
       "..    ...       ...  \n",
       "198  307K       LFC  \n",
       "199  166K       LFC  \n",
       "200  127K       LFC  \n",
       "201  102K       LFC  \n",
       "202   74K       LFC  \n",
       "\n",
       "[203 rows x 11 columns]"
      ]
     },
     "metadata": {},
     "output_type": "display_data"
    }
   ],
   "source": [
    "# Note this is only extracting first ~40 tweets from each team \n",
    "tweets_dfs, profiles_df = get_team_dfs(profiles_data, tweets_data)\n",
    "tweets_dfs.to_csv('team_tweets.csv', index=False)\n",
    "profiles_df.to_csv('team_profiles.csv', index=False)\n",
    "tweets_dfs"
   ]
  },
  {
   "cell_type": "code",
   "execution_count": null,
   "id": "2be59c61",
   "metadata": {},
   "outputs": [
    {
     "data": {
      "text/html": [
       "<div>\n",
       "<style scoped>\n",
       "    .dataframe tbody tr th:only-of-type {\n",
       "        vertical-align: middle;\n",
       "    }\n",
       "\n",
       "    .dataframe tbody tr th {\n",
       "        vertical-align: top;\n",
       "    }\n",
       "\n",
       "    .dataframe thead th {\n",
       "        text-align: right;\n",
       "    }\n",
       "</style>\n",
       "<table border=\"1\" class=\"dataframe\">\n",
       "  <thead>\n",
       "    <tr style=\"text-align: right;\">\n",
       "      <th></th>\n",
       "      <th>display_name</th>\n",
       "      <th>join_date</th>\n",
       "      <th>following_count</th>\n",
       "      <th>follower_count</th>\n",
       "      <th>post_count</th>\n",
       "      <th>scraped_at</th>\n",
       "      <th>profile_url</th>\n",
       "      <th>team</th>\n",
       "    </tr>\n",
       "  </thead>\n",
       "  <tbody>\n",
       "    <tr>\n",
       "      <th>0</th>\n",
       "      <td>Manchester City\\n@ManCity</td>\n",
       "      <td>Joined April 2008</td>\n",
       "      <td>46.6K Following</td>\n",
       "      <td>18M Followers</td>\n",
       "      <td>174K posts</td>\n",
       "      <td>2025-10-22 16:08:21.045752</td>\n",
       "      <td>https://x.com/ManCity</td>\n",
       "      <td>ManCity</td>\n",
       "    </tr>\n",
       "    <tr>\n",
       "      <th>1</th>\n",
       "      <td>Manchester United\\n@ManUtd</td>\n",
       "      <td>Joined April 2012</td>\n",
       "      <td>135 Following</td>\n",
       "      <td>38.8M Followers</td>\n",
       "      <td>97K posts</td>\n",
       "      <td>2025-10-22 16:09:20.570527</td>\n",
       "      <td>https://x.com/ManUtd</td>\n",
       "      <td>ManUtd</td>\n",
       "    </tr>\n",
       "    <tr>\n",
       "      <th>2</th>\n",
       "      <td>Arsenal\\n@Arsenal</td>\n",
       "      <td>Joined April 2009</td>\n",
       "      <td>78.3K Following</td>\n",
       "      <td>22.6M Followers</td>\n",
       "      <td>118.1K posts</td>\n",
       "      <td>2025-10-22 16:10:19.195047</td>\n",
       "      <td>https://x.com/Arsenal</td>\n",
       "      <td>Arsenal</td>\n",
       "    </tr>\n",
       "    <tr>\n",
       "      <th>3</th>\n",
       "      <td>Chelsea FC\\n@ChelseaFC</td>\n",
       "      <td>Joined March 2009</td>\n",
       "      <td>265 Following</td>\n",
       "      <td>26.3M Followers</td>\n",
       "      <td>126.2K posts</td>\n",
       "      <td>2025-10-22 16:11:18.863206</td>\n",
       "      <td>https://x.com/ChelseaFC</td>\n",
       "      <td>ChelseaFC</td>\n",
       "    </tr>\n",
       "    <tr>\n",
       "      <th>4</th>\n",
       "      <td>Liverpool FC\\n@LFC</td>\n",
       "      <td>Joined January 2009</td>\n",
       "      <td>335.3K Following</td>\n",
       "      <td>24.9M Followers</td>\n",
       "      <td>130.7K posts</td>\n",
       "      <td>2025-10-22 16:12:19.424287</td>\n",
       "      <td>https://x.com/LFC</td>\n",
       "      <td>LFC</td>\n",
       "    </tr>\n",
       "  </tbody>\n",
       "</table>\n",
       "</div>"
      ],
      "text/plain": [
       "                 display_name            join_date   following_count  \\\n",
       "0   Manchester City\\n@ManCity    Joined April 2008   46.6K Following   \n",
       "1  Manchester United\\n@ManUtd    Joined April 2012     135 Following   \n",
       "2           Arsenal\\n@Arsenal    Joined April 2009   78.3K Following   \n",
       "3      Chelsea FC\\n@ChelseaFC    Joined March 2009     265 Following   \n",
       "4          Liverpool FC\\n@LFC  Joined January 2009  335.3K Following   \n",
       "\n",
       "    follower_count    post_count                 scraped_at  \\\n",
       "0    18M Followers    174K posts 2025-10-22 16:08:21.045752   \n",
       "1  38.8M Followers     97K posts 2025-10-22 16:09:20.570527   \n",
       "2  22.6M Followers  118.1K posts 2025-10-22 16:10:19.195047   \n",
       "3  26.3M Followers  126.2K posts 2025-10-22 16:11:18.863206   \n",
       "4  24.9M Followers  130.7K posts 2025-10-22 16:12:19.424287   \n",
       "\n",
       "               profile_url       team  \n",
       "0    https://x.com/ManCity    ManCity  \n",
       "1     https://x.com/ManUtd     ManUtd  \n",
       "2    https://x.com/Arsenal    Arsenal  \n",
       "3  https://x.com/ChelseaFC  ChelseaFC  \n",
       "4        https://x.com/LFC        LFC  "
      ]
     },
     "metadata": {},
     "output_type": "display_data"
    }
   ],
   "source": [
    "profiles_df.head()"
   ]
  },
  {
   "cell_type": "markdown",
   "id": "3127a459",
   "metadata": {},
   "source": [
    "## Gathering SofaScore Team Statistics"
   ]
  },
  {
   "cell_type": "markdown",
   "id": "303de786-b2a8-4342-8f06-1db3cbfdcc31",
   "metadata": {},
   "source": [
    "## Data Collection\n",
    "\n",
    "Scraping team statistics from SofaScore including:\n",
    "- Team ratings\n",
    "- Goals scored\n",
    "- Goals conceded\n",
    "- Assists"
   ]
  },
  {
   "cell_type": "markdown",
   "id": "1587fd5e-6c12-40e3-a211-44a50bedc55f",
   "metadata": {},
   "source": [
    "### Sources\n",
    "- https://www.sofascore.com/\n",
    "- https://www.selenium.dev/documentation/webdriver/\n",
    "- https://selenium-python.readthedocs.io/locating-elements.html\n",
    "\n",
    "*Note: SofaScore pages are JavaScript-heavy so Selenium is required for scraping*"
   ]
  },
  {
   "cell_type": "code",
   "execution_count": 10,
   "id": "32699a09-4932-4a00-8059-e630b0ac1528",
   "metadata": {},
   "outputs": [],
   "source": [
    "# Selenium: Python library used for automating web browser for web scraping\n",
    "from selenium import webdriver\n",
    "from selenium.webdriver.common.by import By\n",
    "from selenium.webdriver.chrome.options import Options\n",
    "from selenium.webdriver.chrome.service import Service\n",
    "from webdriver_manager.chrome import ChromeDriverManager\n",
    "import pandas as pd\n",
    "import time\n",
    "import re"
   ]
  },
  {
   "cell_type": "code",
   "execution_count": 11,
   "id": "c705fa93-f67d-448e-a4bc-cad87fb7be99",
   "metadata": {},
   "outputs": [],
   "source": [
    "def scrape_team_statistics(driver, team_id, team_name, timeout=25):\n",
    "    \"\"\"\n",
    "    Scrapes team statistics with strict timeout.\n",
    "    If it takes longer than timeout seconds, returns partial/empty data.\n",
    "    \n",
    "    Args:\n",
    "        driver: Selenium WebDriver instance\n",
    "        team_id: SofaScore team ID\n",
    "        team_name: Team name\n",
    "        timeout: Maximum seconds to spend on this team\n",
    "    \n",
    "    Returns:\n",
    "        dict: Team statistics\n",
    "    \"\"\"\n",
    "    \n",
    "    results = {\n",
    "        'team_name': team_name,\n",
    "        'team_rating': None,\n",
    "        'goals_scored': None,\n",
    "        'goals_conceded': None,\n",
    "        'assists': None\n",
    "    }\n",
    "    \n",
    "    start_time = time.time()\n",
    "    \n",
    "    try:\n",
    "        # Set page load timeout\n",
    "        driver.set_page_load_timeout(10)\n",
    "        \n",
    "        # Load statistics tab\n",
    "        team_url = f\"https://www.sofascore.com/team/football/{team_name.lower().replace(' ', '-')}/{team_id}#tab:statistics\"\n",
    "        print(f\"Loading {team_name}...\", end=' ', flush=True)\n",
    "        \n",
    "        try:\n",
    "            driver.get(team_url)\n",
    "        except Exception as e:\n",
    "            print(f\"✗ Page timeout\")\n",
    "            return results\n",
    "        \n",
    "        # Check if we're over time\n",
    "        if time.time() - start_time > timeout:\n",
    "            print(f\"✗ Overall timeout\")\n",
    "            return results\n",
    "        \n",
    "        time.sleep(3)\n",
    "        \n",
    "        # Quick scroll\n",
    "        for scroll_pos in [400, 800]:\n",
    "            if time.time() - start_time > timeout:\n",
    "                break\n",
    "            driver.execute_script(f\"window.scrollTo(0, {scroll_pos});\")\n",
    "            time.sleep(0.3)\n",
    "        \n",
    "        # Get page text\n",
    "        try:\n",
    "            body_text = driver.find_element(By.TAG_NAME, 'body').text\n",
    "            lines = body_text.split('\\n')\n",
    "        except:\n",
    "            print(f\"✗ Could not get text\")\n",
    "            return results\n",
    "        \n",
    "        # Extract rating quickly\n",
    "        for i, line in enumerate(lines[:150]):\n",
    "            if time.time() - start_time > timeout:\n",
    "                break\n",
    "            \n",
    "            if 'sofascore rating' in line.lower():\n",
    "                for j in range(max(0, i-3), min(len(lines), i+6)):\n",
    "                    potential = lines[j].strip()\n",
    "                    if re.match(r'^\\d\\.\\d{1,2}$', potential):\n",
    "                        val = float(potential)\n",
    "                        if 0 <= val <= 10:\n",
    "                            results['team_rating'] = potential\n",
    "                            break\n",
    "                if results['team_rating']:\n",
    "                    break\n",
    "        \n",
    "        # If rating not found, try JavaScript (with timeout)\n",
    "        if not results['team_rating'] and time.time() - start_time < timeout:\n",
    "            rating_js = r\"\"\"\n",
    "            function findRating() {\n",
    "                var walker = document.createTreeWalker(document.body, NodeFilter.SHOW_TEXT, null, false);\n",
    "                var ratings = [];\n",
    "                var node;\n",
    "                var count = 0;\n",
    "                \n",
    "                while((node = walker.nextNode()) && count < 5000) {\n",
    "                    count++;\n",
    "                    var text = node.nodeValue.trim();\n",
    "                    if (/^\\d\\.\\d{1,2}$/.test(text)) {\n",
    "                        var val = parseFloat(text);\n",
    "                        if (val >= 0 && val <= 10) {\n",
    "                            ratings.push(text);\n",
    "                            if (ratings.length >= 3) break;\n",
    "                        }\n",
    "                    }\n",
    "                }\n",
    "                return ratings;\n",
    "            }\n",
    "            return findRating();\n",
    "            \"\"\"\n",
    "            \n",
    "            try:\n",
    "                driver.set_script_timeout(5)\n",
    "                ratings = driver.execute_script(rating_js)\n",
    "                if ratings and len(ratings) > 0:\n",
    "                    results['team_rating'] = ratings[0]\n",
    "            except:\n",
    "                pass\n",
    "        \n",
    "        # Extract other statistics - EXACT matches only!\n",
    "        max_lines = min(len(lines), 300)\n",
    "        \n",
    "        for i in range(max_lines):\n",
    "            if time.time() - start_time > timeout:\n",
    "                break\n",
    "            \n",
    "            line = lines[i]\n",
    "            line_lower = line.lower().strip()\n",
    "            \n",
    "            # Goals scored - EXACT match \"goals scored\"\n",
    "            if line_lower == 'goals scored':\n",
    "                for j in range(i+1, min(max_lines, i+4)):\n",
    "                    potential = lines[j].strip()\n",
    "                    if potential.isdigit():\n",
    "                        results['goals_scored'] = potential\n",
    "                        break\n",
    "            \n",
    "            # Goals conceded - EXACT match \"goals conceded\"\n",
    "            if line_lower == 'goals conceded':\n",
    "                for j in range(i+1, min(max_lines, i+4)):\n",
    "                    potential = lines[j].strip()\n",
    "                    if potential.isdigit():\n",
    "                        results['goals_conceded'] = potential\n",
    "                        break\n",
    "            \n",
    "            # Assists - EXACT match \"assists\"\n",
    "            if line_lower == 'assists':\n",
    "                for j in range(i+1, min(max_lines, i+4)):\n",
    "                    potential = lines[j].strip()\n",
    "                    if potential.isdigit():\n",
    "                        results['assists'] = potential\n",
    "                        break\n",
    "            \n",
    "            # Early exit if everything found\n",
    "            if all([results['team_rating'], results['goals_scored'], \n",
    "                   results['goals_conceded'], results['assists']]):\n",
    "                break\n",
    "        \n",
    "        elapsed = time.time() - start_time\n",
    "        print(f\"✓ Rating: {results['team_rating']}, Goals: {results['goals_scored']}, Conceded: {results['goals_conceded']}, Assists: {results['assists']} ({elapsed:.1f}s)\")\n",
    "        return results\n",
    "        \n",
    "    except Exception as e:\n",
    "        print(f\"✗ Error: {str(e)[:50]}\")\n",
    "        return results"
   ]
  },
  {
   "cell_type": "code",
   "execution_count": 12,
   "id": "eb862715",
   "metadata": {},
   "outputs": [],
   "source": [
    "def get_teams_statistics(teams):\n",
    "    \"\"\"\n",
    "    Scrapes statistics for multiple teams from SofaScore.\n",
    "    \n",
    "    Args:\n",
    "        teams: Dictionary of team names to team IDs\n",
    "    \n",
    "    Returns:\n",
    "        all_teams_data: List of dictionaries containing team statistics\n",
    "    \"\"\"\n",
    "    \n",
    "    # Setup Chrome options\n",
    "    chrome_options = Options()\n",
    "    chrome_options.add_argument('--headless')\n",
    "    chrome_options.add_argument('--no-sandbox')\n",
    "    chrome_options.add_argument('--disable-dev-shm-usage')\n",
    "    chrome_options.add_argument('--disable-images')\n",
    "    chrome_options.add_argument('user-agent=Mozilla/5.0 (Macintosh; Intel Mac OS X 10_15_7) AppleWebKit/537.36')\n",
    "    \n",
    "    driver = webdriver.Chrome(options=chrome_options)\n",
    "    all_teams_data = []\n",
    "    \n",
    "    try:\n",
    "        # Scrape each team\n",
    "        for i, (team_name, team_id) in enumerate(teams.items(), 1):\n",
    "            print(f\"[{i}/{len(teams)}] \", end='')\n",
    "            \n",
    "            try:\n",
    "                team_stats = scrape_team_statistics(driver, team_id, team_name)\n",
    "                \n",
    "                if team_stats:\n",
    "                    all_teams_data.append({\n",
    "                        'team_name': team_name,\n",
    "                        'team_id': team_id,\n",
    "                        'rating': team_stats['team_rating'],\n",
    "                        'goals_scored': team_stats['goals_scored'],\n",
    "                        'goals_conceded': team_stats['goals_conceded'],\n",
    "                        'assists': team_stats['assists']\n",
    "                    })\n",
    "            except Exception as e:\n",
    "                print(f\"Failed: {str(e)[:50]}\")\n",
    "                all_teams_data.append({\n",
    "                    'team_name': team_name,\n",
    "                    'team_id': team_id,\n",
    "                    'rating': None,\n",
    "                    'goals_scored': None,\n",
    "                    'goals_conceded': None,\n",
    "                    'assists': None\n",
    "                })\n",
    "            \n",
    "            time.sleep(1)\n",
    "        \n",
    "    finally:\n",
    "        driver.quit()\n",
    "    \n",
    "    return all_teams_data"
   ]
  },
  {
   "cell_type": "code",
   "execution_count": 13,
   "id": "2190cb32",
   "metadata": {},
   "outputs": [],
   "source": [
    "def create_teams_df(all_teams_data):\n",
    "    \"\"\"\n",
    "    Converts team statistics dictionaries into DataFrame.\n",
    "    \n",
    "    Args:\n",
    "        all_teams_data: List of team statistics dictionaries\n",
    "    \n",
    "    Returns:\n",
    "        teams_df: DataFrame with a row for each team\n",
    "    \"\"\"\n",
    "    teams_series = []\n",
    "    for team in all_teams_data:\n",
    "        teams_series.append(pd.Series(team))\n",
    "    teams_df = pd.DataFrame(teams_series)\n",
    "    return teams_df"
   ]
  },
  {
   "cell_type": "code",
   "execution_count": 14,
   "id": "90c00dd1-b742-4e05-b661-e1e4af8ab733",
   "metadata": {},
   "outputs": [],
   "source": [
    "# Teams to scrape (team_name: team_id)\n",
    "teams = {\n",
    "    'Manchester United': 35,\n",
    "    'Arsenal': 42,\n",
    "    'Liverpool': 44,\n",
    "    'Manchester City': 17,\n",
    "    'Chelsea': 38\n",
    "}"
   ]
  },
  {
   "cell_type": "code",
   "execution_count": 15,
   "id": "ba36143b-ae02-4ac8-b040-8a69f9553f0b",
   "metadata": {},
   "outputs": [
    {
     "name": "stdout",
     "output_type": "stream",
     "text": [
      "[1/5] Loading Manchester United... ✓ Rating: 6.81, Goals: 15, Conceded: 14, Assists: 10 (4.7s)\n",
      "[2/5] Loading Arsenal... ✓ Rating: 7.00, Goals: 16, Conceded: 3, Assists: 10 (4.7s)\n",
      "[3/5] Loading Liverpool... ✓ Rating: 6.83, Goals: 16, Conceded: 14, Assists: 11 (4.6s)\n",
      "[4/5] Loading Manchester City... ✓ Rating: 6.98, Goals: 17, Conceded: 7, Assists: 13 (4.5s)\n",
      "[5/5] Loading Chelsea... ✓ Rating: 6.87, Goals: 17, Conceded: 11, Assists: 12 (4.5s)\n"
     ]
    }
   ],
   "source": [
    "all_teams_data = get_teams_statistics(teams)"
   ]
  },
  {
   "cell_type": "code",
   "execution_count": 16,
   "id": "ede33b1c-2582-4550-a5ba-76378b01bf61",
   "metadata": {},
   "outputs": [
    {
     "data": {
      "text/html": [
       "<div>\n",
       "<style scoped>\n",
       "    .dataframe tbody tr th:only-of-type {\n",
       "        vertical-align: middle;\n",
       "    }\n",
       "\n",
       "    .dataframe tbody tr th {\n",
       "        vertical-align: top;\n",
       "    }\n",
       "\n",
       "    .dataframe thead th {\n",
       "        text-align: right;\n",
       "    }\n",
       "</style>\n",
       "<table border=\"1\" class=\"dataframe\">\n",
       "  <thead>\n",
       "    <tr style=\"text-align: right;\">\n",
       "      <th></th>\n",
       "      <th>team_name</th>\n",
       "      <th>team_id</th>\n",
       "      <th>rating</th>\n",
       "      <th>goals_scored</th>\n",
       "      <th>goals_conceded</th>\n",
       "      <th>assists</th>\n",
       "    </tr>\n",
       "  </thead>\n",
       "  <tbody>\n",
       "    <tr>\n",
       "      <th>0</th>\n",
       "      <td>Manchester United</td>\n",
       "      <td>35</td>\n",
       "      <td>6.81</td>\n",
       "      <td>15</td>\n",
       "      <td>14</td>\n",
       "      <td>10</td>\n",
       "    </tr>\n",
       "    <tr>\n",
       "      <th>1</th>\n",
       "      <td>Arsenal</td>\n",
       "      <td>42</td>\n",
       "      <td>7.00</td>\n",
       "      <td>16</td>\n",
       "      <td>3</td>\n",
       "      <td>10</td>\n",
       "    </tr>\n",
       "    <tr>\n",
       "      <th>2</th>\n",
       "      <td>Liverpool</td>\n",
       "      <td>44</td>\n",
       "      <td>6.83</td>\n",
       "      <td>16</td>\n",
       "      <td>14</td>\n",
       "      <td>11</td>\n",
       "    </tr>\n",
       "    <tr>\n",
       "      <th>3</th>\n",
       "      <td>Manchester City</td>\n",
       "      <td>17</td>\n",
       "      <td>6.98</td>\n",
       "      <td>17</td>\n",
       "      <td>7</td>\n",
       "      <td>13</td>\n",
       "    </tr>\n",
       "    <tr>\n",
       "      <th>4</th>\n",
       "      <td>Chelsea</td>\n",
       "      <td>38</td>\n",
       "      <td>6.87</td>\n",
       "      <td>17</td>\n",
       "      <td>11</td>\n",
       "      <td>12</td>\n",
       "    </tr>\n",
       "  </tbody>\n",
       "</table>\n",
       "</div>"
      ],
      "text/plain": [
       "           team_name  team_id rating goals_scored goals_conceded assists\n",
       "0  Manchester United       35   6.81           15             14      10\n",
       "1            Arsenal       42   7.00           16              3      10\n",
       "2          Liverpool       44   6.83           16             14      11\n",
       "3    Manchester City       17   6.98           17              7      13\n",
       "4            Chelsea       38   6.87           17             11      12"
      ]
     },
     "execution_count": 16,
     "metadata": {},
     "output_type": "execute_result"
    }
   ],
   "source": [
    "teams_df = create_teams_df(all_teams_data)\n",
    "teams_df"
   ]
  },
  {
   "cell_type": "markdown",
   "id": "844839ea",
   "metadata": {},
   "source": [
    "## Plotting"
   ]
  },
  {
   "cell_type": "code",
   "execution_count": 17,
   "id": "fb908af0",
   "metadata": {},
   "outputs": [
    {
     "data": {
      "application/vnd.plotly.v1+json": {
       "config": {
        "plotlyServerURL": "https://plot.ly"
       },
       "data": [
        {
         "hovertemplate": "<b>%{hovertext}</b><br><br>team_name=Manchester United<br>rating=%{x}<br>goals_scored=%{y}<extra></extra>",
         "hovertext": [
          "Manchester United"
         ],
         "legendgroup": "Manchester United",
         "marker": {
          "color": "#636efa",
          "symbol": "circle"
         },
         "mode": "markers",
         "name": "Manchester United",
         "orientation": "v",
         "showlegend": true,
         "type": "scatter",
         "x": [
          6.81
         ],
         "xaxis": "x",
         "y": [
          15
         ],
         "yaxis": "y"
        },
        {
         "hovertemplate": "<b>%{hovertext}</b><br><br>team_name=Arsenal<br>rating=%{x}<br>goals_scored=%{y}<extra></extra>",
         "hovertext": [
          "Arsenal"
         ],
         "legendgroup": "Arsenal",
         "marker": {
          "color": "#EF553B",
          "symbol": "circle"
         },
         "mode": "markers",
         "name": "Arsenal",
         "orientation": "v",
         "showlegend": true,
         "type": "scatter",
         "x": [
          7
         ],
         "xaxis": "x",
         "y": [
          16
         ],
         "yaxis": "y"
        },
        {
         "hovertemplate": "<b>%{hovertext}</b><br><br>team_name=Liverpool<br>rating=%{x}<br>goals_scored=%{y}<extra></extra>",
         "hovertext": [
          "Liverpool"
         ],
         "legendgroup": "Liverpool",
         "marker": {
          "color": "#00cc96",
          "symbol": "circle"
         },
         "mode": "markers",
         "name": "Liverpool",
         "orientation": "v",
         "showlegend": true,
         "type": "scatter",
         "x": [
          6.83
         ],
         "xaxis": "x",
         "y": [
          16
         ],
         "yaxis": "y"
        },
        {
         "hovertemplate": "<b>%{hovertext}</b><br><br>team_name=Manchester City<br>rating=%{x}<br>goals_scored=%{y}<extra></extra>",
         "hovertext": [
          "Manchester City"
         ],
         "legendgroup": "Manchester City",
         "marker": {
          "color": "#ab63fa",
          "symbol": "circle"
         },
         "mode": "markers",
         "name": "Manchester City",
         "orientation": "v",
         "showlegend": true,
         "type": "scatter",
         "x": [
          6.98
         ],
         "xaxis": "x",
         "y": [
          17
         ],
         "yaxis": "y"
        },
        {
         "hovertemplate": "<b>%{hovertext}</b><br><br>team_name=Chelsea<br>rating=%{x}<br>goals_scored=%{y}<extra></extra>",
         "hovertext": [
          "Chelsea"
         ],
         "legendgroup": "Chelsea",
         "marker": {
          "color": "#FFA15A",
          "symbol": "circle"
         },
         "mode": "markers",
         "name": "Chelsea",
         "orientation": "v",
         "showlegend": true,
         "type": "scatter",
         "x": [
          6.87
         ],
         "xaxis": "x",
         "y": [
          17
         ],
         "yaxis": "y"
        }
       ],
       "layout": {
        "legend": {
         "title": {
          "text": "team_name"
         },
         "tracegroupgap": 0
        },
        "template": {
         "data": {
          "bar": [
           {
            "error_x": {
             "color": "#2a3f5f"
            },
            "error_y": {
             "color": "#2a3f5f"
            },
            "marker": {
             "line": {
              "color": "#E5ECF6",
              "width": 0.5
             },
             "pattern": {
              "fillmode": "overlay",
              "size": 10,
              "solidity": 0.2
             }
            },
            "type": "bar"
           }
          ],
          "barpolar": [
           {
            "marker": {
             "line": {
              "color": "#E5ECF6",
              "width": 0.5
             },
             "pattern": {
              "fillmode": "overlay",
              "size": 10,
              "solidity": 0.2
             }
            },
            "type": "barpolar"
           }
          ],
          "carpet": [
           {
            "aaxis": {
             "endlinecolor": "#2a3f5f",
             "gridcolor": "white",
             "linecolor": "white",
             "minorgridcolor": "white",
             "startlinecolor": "#2a3f5f"
            },
            "baxis": {
             "endlinecolor": "#2a3f5f",
             "gridcolor": "white",
             "linecolor": "white",
             "minorgridcolor": "white",
             "startlinecolor": "#2a3f5f"
            },
            "type": "carpet"
           }
          ],
          "choropleth": [
           {
            "colorbar": {
             "outlinewidth": 0,
             "ticks": ""
            },
            "type": "choropleth"
           }
          ],
          "contour": [
           {
            "colorbar": {
             "outlinewidth": 0,
             "ticks": ""
            },
            "colorscale": [
             [
              0,
              "#0d0887"
             ],
             [
              0.1111111111111111,
              "#46039f"
             ],
             [
              0.2222222222222222,
              "#7201a8"
             ],
             [
              0.3333333333333333,
              "#9c179e"
             ],
             [
              0.4444444444444444,
              "#bd3786"
             ],
             [
              0.5555555555555556,
              "#d8576b"
             ],
             [
              0.6666666666666666,
              "#ed7953"
             ],
             [
              0.7777777777777778,
              "#fb9f3a"
             ],
             [
              0.8888888888888888,
              "#fdca26"
             ],
             [
              1,
              "#f0f921"
             ]
            ],
            "type": "contour"
           }
          ],
          "contourcarpet": [
           {
            "colorbar": {
             "outlinewidth": 0,
             "ticks": ""
            },
            "type": "contourcarpet"
           }
          ],
          "heatmap": [
           {
            "colorbar": {
             "outlinewidth": 0,
             "ticks": ""
            },
            "colorscale": [
             [
              0,
              "#0d0887"
             ],
             [
              0.1111111111111111,
              "#46039f"
             ],
             [
              0.2222222222222222,
              "#7201a8"
             ],
             [
              0.3333333333333333,
              "#9c179e"
             ],
             [
              0.4444444444444444,
              "#bd3786"
             ],
             [
              0.5555555555555556,
              "#d8576b"
             ],
             [
              0.6666666666666666,
              "#ed7953"
             ],
             [
              0.7777777777777778,
              "#fb9f3a"
             ],
             [
              0.8888888888888888,
              "#fdca26"
             ],
             [
              1,
              "#f0f921"
             ]
            ],
            "type": "heatmap"
           }
          ],
          "heatmapgl": [
           {
            "colorbar": {
             "outlinewidth": 0,
             "ticks": ""
            },
            "colorscale": [
             [
              0,
              "#0d0887"
             ],
             [
              0.1111111111111111,
              "#46039f"
             ],
             [
              0.2222222222222222,
              "#7201a8"
             ],
             [
              0.3333333333333333,
              "#9c179e"
             ],
             [
              0.4444444444444444,
              "#bd3786"
             ],
             [
              0.5555555555555556,
              "#d8576b"
             ],
             [
              0.6666666666666666,
              "#ed7953"
             ],
             [
              0.7777777777777778,
              "#fb9f3a"
             ],
             [
              0.8888888888888888,
              "#fdca26"
             ],
             [
              1,
              "#f0f921"
             ]
            ],
            "type": "heatmapgl"
           }
          ],
          "histogram": [
           {
            "marker": {
             "pattern": {
              "fillmode": "overlay",
              "size": 10,
              "solidity": 0.2
             }
            },
            "type": "histogram"
           }
          ],
          "histogram2d": [
           {
            "colorbar": {
             "outlinewidth": 0,
             "ticks": ""
            },
            "colorscale": [
             [
              0,
              "#0d0887"
             ],
             [
              0.1111111111111111,
              "#46039f"
             ],
             [
              0.2222222222222222,
              "#7201a8"
             ],
             [
              0.3333333333333333,
              "#9c179e"
             ],
             [
              0.4444444444444444,
              "#bd3786"
             ],
             [
              0.5555555555555556,
              "#d8576b"
             ],
             [
              0.6666666666666666,
              "#ed7953"
             ],
             [
              0.7777777777777778,
              "#fb9f3a"
             ],
             [
              0.8888888888888888,
              "#fdca26"
             ],
             [
              1,
              "#f0f921"
             ]
            ],
            "type": "histogram2d"
           }
          ],
          "histogram2dcontour": [
           {
            "colorbar": {
             "outlinewidth": 0,
             "ticks": ""
            },
            "colorscale": [
             [
              0,
              "#0d0887"
             ],
             [
              0.1111111111111111,
              "#46039f"
             ],
             [
              0.2222222222222222,
              "#7201a8"
             ],
             [
              0.3333333333333333,
              "#9c179e"
             ],
             [
              0.4444444444444444,
              "#bd3786"
             ],
             [
              0.5555555555555556,
              "#d8576b"
             ],
             [
              0.6666666666666666,
              "#ed7953"
             ],
             [
              0.7777777777777778,
              "#fb9f3a"
             ],
             [
              0.8888888888888888,
              "#fdca26"
             ],
             [
              1,
              "#f0f921"
             ]
            ],
            "type": "histogram2dcontour"
           }
          ],
          "mesh3d": [
           {
            "colorbar": {
             "outlinewidth": 0,
             "ticks": ""
            },
            "type": "mesh3d"
           }
          ],
          "parcoords": [
           {
            "line": {
             "colorbar": {
              "outlinewidth": 0,
              "ticks": ""
             }
            },
            "type": "parcoords"
           }
          ],
          "pie": [
           {
            "automargin": true,
            "type": "pie"
           }
          ],
          "scatter": [
           {
            "fillpattern": {
             "fillmode": "overlay",
             "size": 10,
             "solidity": 0.2
            },
            "type": "scatter"
           }
          ],
          "scatter3d": [
           {
            "line": {
             "colorbar": {
              "outlinewidth": 0,
              "ticks": ""
             }
            },
            "marker": {
             "colorbar": {
              "outlinewidth": 0,
              "ticks": ""
             }
            },
            "type": "scatter3d"
           }
          ],
          "scattercarpet": [
           {
            "marker": {
             "colorbar": {
              "outlinewidth": 0,
              "ticks": ""
             }
            },
            "type": "scattercarpet"
           }
          ],
          "scattergeo": [
           {
            "marker": {
             "colorbar": {
              "outlinewidth": 0,
              "ticks": ""
             }
            },
            "type": "scattergeo"
           }
          ],
          "scattergl": [
           {
            "marker": {
             "colorbar": {
              "outlinewidth": 0,
              "ticks": ""
             }
            },
            "type": "scattergl"
           }
          ],
          "scattermapbox": [
           {
            "marker": {
             "colorbar": {
              "outlinewidth": 0,
              "ticks": ""
             }
            },
            "type": "scattermapbox"
           }
          ],
          "scatterpolar": [
           {
            "marker": {
             "colorbar": {
              "outlinewidth": 0,
              "ticks": ""
             }
            },
            "type": "scatterpolar"
           }
          ],
          "scatterpolargl": [
           {
            "marker": {
             "colorbar": {
              "outlinewidth": 0,
              "ticks": ""
             }
            },
            "type": "scatterpolargl"
           }
          ],
          "scatterternary": [
           {
            "marker": {
             "colorbar": {
              "outlinewidth": 0,
              "ticks": ""
             }
            },
            "type": "scatterternary"
           }
          ],
          "surface": [
           {
            "colorbar": {
             "outlinewidth": 0,
             "ticks": ""
            },
            "colorscale": [
             [
              0,
              "#0d0887"
             ],
             [
              0.1111111111111111,
              "#46039f"
             ],
             [
              0.2222222222222222,
              "#7201a8"
             ],
             [
              0.3333333333333333,
              "#9c179e"
             ],
             [
              0.4444444444444444,
              "#bd3786"
             ],
             [
              0.5555555555555556,
              "#d8576b"
             ],
             [
              0.6666666666666666,
              "#ed7953"
             ],
             [
              0.7777777777777778,
              "#fb9f3a"
             ],
             [
              0.8888888888888888,
              "#fdca26"
             ],
             [
              1,
              "#f0f921"
             ]
            ],
            "type": "surface"
           }
          ],
          "table": [
           {
            "cells": {
             "fill": {
              "color": "#EBF0F8"
             },
             "line": {
              "color": "white"
             }
            },
            "header": {
             "fill": {
              "color": "#C8D4E3"
             },
             "line": {
              "color": "white"
             }
            },
            "type": "table"
           }
          ]
         },
         "layout": {
          "annotationdefaults": {
           "arrowcolor": "#2a3f5f",
           "arrowhead": 0,
           "arrowwidth": 1
          },
          "autotypenumbers": "strict",
          "coloraxis": {
           "colorbar": {
            "outlinewidth": 0,
            "ticks": ""
           }
          },
          "colorscale": {
           "diverging": [
            [
             0,
             "#8e0152"
            ],
            [
             0.1,
             "#c51b7d"
            ],
            [
             0.2,
             "#de77ae"
            ],
            [
             0.3,
             "#f1b6da"
            ],
            [
             0.4,
             "#fde0ef"
            ],
            [
             0.5,
             "#f7f7f7"
            ],
            [
             0.6,
             "#e6f5d0"
            ],
            [
             0.7,
             "#b8e186"
            ],
            [
             0.8,
             "#7fbc41"
            ],
            [
             0.9,
             "#4d9221"
            ],
            [
             1,
             "#276419"
            ]
           ],
           "sequential": [
            [
             0,
             "#0d0887"
            ],
            [
             0.1111111111111111,
             "#46039f"
            ],
            [
             0.2222222222222222,
             "#7201a8"
            ],
            [
             0.3333333333333333,
             "#9c179e"
            ],
            [
             0.4444444444444444,
             "#bd3786"
            ],
            [
             0.5555555555555556,
             "#d8576b"
            ],
            [
             0.6666666666666666,
             "#ed7953"
            ],
            [
             0.7777777777777778,
             "#fb9f3a"
            ],
            [
             0.8888888888888888,
             "#fdca26"
            ],
            [
             1,
             "#f0f921"
            ]
           ],
           "sequentialminus": [
            [
             0,
             "#0d0887"
            ],
            [
             0.1111111111111111,
             "#46039f"
            ],
            [
             0.2222222222222222,
             "#7201a8"
            ],
            [
             0.3333333333333333,
             "#9c179e"
            ],
            [
             0.4444444444444444,
             "#bd3786"
            ],
            [
             0.5555555555555556,
             "#d8576b"
            ],
            [
             0.6666666666666666,
             "#ed7953"
            ],
            [
             0.7777777777777778,
             "#fb9f3a"
            ],
            [
             0.8888888888888888,
             "#fdca26"
            ],
            [
             1,
             "#f0f921"
            ]
           ]
          },
          "colorway": [
           "#636efa",
           "#EF553B",
           "#00cc96",
           "#ab63fa",
           "#FFA15A",
           "#19d3f3",
           "#FF6692",
           "#B6E880",
           "#FF97FF",
           "#FECB52"
          ],
          "font": {
           "color": "#2a3f5f"
          },
          "geo": {
           "bgcolor": "white",
           "lakecolor": "white",
           "landcolor": "#E5ECF6",
           "showlakes": true,
           "showland": true,
           "subunitcolor": "white"
          },
          "hoverlabel": {
           "align": "left"
          },
          "hovermode": "closest",
          "mapbox": {
           "style": "light"
          },
          "paper_bgcolor": "white",
          "plot_bgcolor": "#E5ECF6",
          "polar": {
           "angularaxis": {
            "gridcolor": "white",
            "linecolor": "white",
            "ticks": ""
           },
           "bgcolor": "#E5ECF6",
           "radialaxis": {
            "gridcolor": "white",
            "linecolor": "white",
            "ticks": ""
           }
          },
          "scene": {
           "xaxis": {
            "backgroundcolor": "#E5ECF6",
            "gridcolor": "white",
            "gridwidth": 2,
            "linecolor": "white",
            "showbackground": true,
            "ticks": "",
            "zerolinecolor": "white"
           },
           "yaxis": {
            "backgroundcolor": "#E5ECF6",
            "gridcolor": "white",
            "gridwidth": 2,
            "linecolor": "white",
            "showbackground": true,
            "ticks": "",
            "zerolinecolor": "white"
           },
           "zaxis": {
            "backgroundcolor": "#E5ECF6",
            "gridcolor": "white",
            "gridwidth": 2,
            "linecolor": "white",
            "showbackground": true,
            "ticks": "",
            "zerolinecolor": "white"
           }
          },
          "shapedefaults": {
           "line": {
            "color": "#2a3f5f"
           }
          },
          "ternary": {
           "aaxis": {
            "gridcolor": "white",
            "linecolor": "white",
            "ticks": ""
           },
           "baxis": {
            "gridcolor": "white",
            "linecolor": "white",
            "ticks": ""
           },
           "bgcolor": "#E5ECF6",
           "caxis": {
            "gridcolor": "white",
            "linecolor": "white",
            "ticks": ""
           }
          },
          "title": {
           "x": 0.05
          },
          "xaxis": {
           "automargin": true,
           "gridcolor": "white",
           "linecolor": "white",
           "ticks": "",
           "title": {
            "standoff": 15
           },
           "zerolinecolor": "white",
           "zerolinewidth": 2
          },
          "yaxis": {
           "automargin": true,
           "gridcolor": "white",
           "linecolor": "white",
           "ticks": "",
           "title": {
            "standoff": 15
           },
           "zerolinecolor": "white",
           "zerolinewidth": 2
          }
         }
        },
        "title": {
         "font": {
          "size": 22
         },
         "text": "Team Rating vs Goals Scored"
        },
        "xaxis": {
         "anchor": "y",
         "domain": [
          0,
          1
         ],
         "range": [
          0,
          12
         ],
         "title": {
          "text": "Team Rating"
         }
        },
        "yaxis": {
         "anchor": "x",
         "domain": [
          0,
          1
         ],
         "range": [
          0,
          22
         ],
         "title": {
          "text": "Goals Scored"
         }
        }
       }
      }
     },
     "metadata": {},
     "output_type": "display_data"
    }
   ],
   "source": [
    "import plotly.express as px\n",
    "import pandas as pd\n",
    "\n",
    "# convert the goals scored and rating cols to have numerical values\n",
    "teams_df['goals_scored'] = pd.to_numeric(teams_df['goals_scored'], errors='coerce')\n",
    "teams_df['rating'] = pd.to_numeric(teams_df['rating'], errors='coerce')\n",
    "\n",
    "# creates the scatter plot comparing each team's rating to goals scored\n",
    "fig = px.scatter(\n",
    "    teams_df,\n",
    "    x='rating',\n",
    "    y='goals_scored',\n",
    "    color='team_name',\n",
    "    hover_name='team_name',\n",
    "    title='Team Rating vs Goals Scored',\n",
    ")\n",
    "\n",
    "#normalize it so axis' start at 0\n",
    "fig.update_layout(\n",
    "    xaxis=dict(title='Team Rating', range=[0, teams_df['rating'].max() + 5]),\n",
    "    yaxis=dict(title='Goals Scored', range=[0, teams_df['goals_scored'].max() + 5]),\n",
    "    title_font_size=22\n",
    ")\n",
    "\n",
    "fig.show()"
   ]
  },
  {
   "cell_type": "code",
   "execution_count": null,
   "id": "fe67ef64",
   "metadata": {},
   "outputs": [
    {
     "data": {
      "image/png": "[encoded data removed]",
      "text/plain": [
       "<Figure size 1000x600 with 1 Axes>"
      ]
     },
     "metadata": {},
     "output_type": "display_data"
    }
   ],
   "source": [
    "import pandas as pd\n",
    "import seaborn as sns\n",
    "import matplotlib.pyplot as plt\n",
    "\n",
    "# converting coluumns to numerics\n",
    "teams_df['rating'] = pd.to_numeric(teams_df['rating'], errors='coerce')\n",
    "\n",
    "# counting the tweets per team as per the scraped data file\n",
    "tweets_df = pd.read_csv('team_tweets.csv')\n",
    "tweet_counts = tweets_df['team_name'].value_counts()\n",
    "\n",
    "team_name_map = {\n",
    "    'ManCity': 'Manchester City',\n",
    "    'ManUtd': 'Manchester United',\n",
    "    'Arsenal': 'Arsenal',\n",
    "    'ChelseaFC': 'Chelsea',\n",
    "    'LFC': 'Liverpool'\n",
    "}\n",
    "\n",
    "teams_df['total_tweets'] = teams_df['team_name'].map(\n",
    "    lambda x: tweet_counts.get([k for k, v in team_name_map.items() if v == x][0], 0)\n",
    ")\n",
    "\n",
    "plt.figure(figsize=(10,6))\n",
    "\n",
    "sns.scatterplot(data=teams_df, x='rating', y='total_tweets', s=150)\n",
    "plt.xlabel('Team Rating')\n",
    "plt.ylabel('Total Tweets')\n",
    "plt.title('Team Rating vs Total Tweets')\n",
    "plt.show()"
   ]
  },
  {
   "cell_type": "markdown",
   "id": "ee06f26f",
   "metadata": {},
   "source": [
    "#### Data Usage and Remaining Issues\n",
    "We have gathered data for the teams' statistics and on-field performance, along with data from a social media page such as Twitter (or X). Moreover, we have curated diagrams that display the correlations between these two categories and how they could relate to each other. What we still need to continue with is sentimental analysis for comments on the original twitter post of the teams, and how these comments could relate to the team's performance. We could also compare this with the morale of the team, showcasing how these comments could affect their performance. Another aspect we could also focus on is how the number of comments/interactions/replies to the original twitter post could depend on the result of the football game that each team just played."
   ]
  }
 ],
 "metadata": {
  "kernelspec": {
   "display_name": "base",
   "language": "python",
   "name": "python3"
  },
  "language_info": {
   "codemirror_mode": {
    "name": "ipython",
    "version": 3
   },
   "file_extension": ".py",
   "mimetype": "text/x-python",
   "name": "python",
   "nbconvert_exporter": "python",
   "pygments_lexer": "ipython3",
   "version": "3.10.9"
  }
 },
 "nbformat": 4,
 "nbformat_minor": 5
}
